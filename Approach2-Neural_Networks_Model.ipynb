{
  "cells": [
    {
      "cell_type": "markdown",
      "metadata": {},
      "source": [
        "# Relation Extraction using NLP and Neural Networks modelling ( BiLSTM + CNN with Multi-head Attention )"
      ]
    },
    {
      "cell_type": "markdown",
      "metadata": {},
      "source": [
        "### Importing necessary libraries for natural language processing and machine learning tasks"
      ]
    },
    {
      "cell_type": "code",
      "execution_count": 3,
      "metadata": {
        "colab": {
          "base_uri": "https://localhost:8080/"
        },
        "id": "74-e0TNgB9gF",
        "outputId": "1a44395b-1ebc-42a1-8c30-b5494fcd418a"
      },
      "outputs": [],
      "source": [
        "# Importing SpaCy for advanced natural language processing tasks\n",
        "import spacy\n",
        "from spacy import displacy\n",
        "from spacy.tokens import DocBin\n",
        "\n",
        "# Importing essential libraries for data manipulation and visualization\n",
        "import numpy as np\n",
        "import pandas as pd\n",
        "import matplotlib.pyplot as plt\n",
        "\n",
        "# Importing NLTK for basic natural language processing tasks\n",
        "import nltk\n",
        "from nltk.corpus import stopwords\n",
        "from nltk.tokenize import word_tokenize\n",
        "from nltk.stem import WordNetLemmatizer\n",
        "from nltk.stem import PorterStemmer\n",
        "\n",
        "# Importing libraries for machine learning and deep learning\n",
        "from sklearn.feature_extraction.text import TfidfVectorizer\n",
        "from keras.models import Sequential\n",
        "from keras.layers import LSTM, Dense\n",
        "from sklearn.model_selection import train_test_split\n",
        "from sklearn.preprocessing import StandardScaler\n",
        "from sklearn.svm import SVC\n",
        "from sklearn.pipeline import Pipeline\n",
        "from sklearn.linear_model import LogisticRegression\n",
        "from sklearn.ensemble import RandomForestClassifier\n",
        "from sklearn.metrics import classification_report\n",
        "from sklearn.preprocessing import LabelEncoder\n",
        "from sklearn.naive_bayes import MultinomialNB\n",
        "from sklearn.neural_network import MLPClassifier\n",
        "import tensorflow as tf\n",
        "from tensorflow.keras import layers, models\n",
        "from tensorflow.keras.layers import Layer, Input, Embedding, Dropout, Conv1D, Bidirectional, LSTM, Activation, GlobalMaxPooling1D, Dense, Permute, Lambda, concatenate, Flatten, Reshape\n",
        "from tensorflow.keras.models import Model\n",
        "from tensorflow.keras import regularizers\n",
        "from tensorflow.keras.optimizers import Adadelta\n",
        "import tensorflow.keras.backend as K\n",
        "from tensorflow.keras.layers import MultiHeadAttention\n",
        "from tensorflow.keras.preprocessing.sequence import pad_sequences\n",
        "from tensorflow.keras.preprocessing.text import Tokenizer\n",
        "\n",
        "# Mounting Google Drive if working in Google Colab\n",
        "# from google.colab import drive\n",
        "# drive.mount('/content/drive')"
      ]
    },
    {
      "cell_type": "code",
      "execution_count": null,
      "metadata": {},
      "outputs": [],
      "source": [
        "# Installing the datasets library using pip\n",
        "!pip install datasets"
      ]
    },
    {
      "cell_type": "markdown",
      "metadata": {},
      "source": [
        "### Importing and Loading the SemEval dataset"
      ]
    },
    {
      "cell_type": "code",
      "execution_count": 5,
      "metadata": {
        "colab": {
          "base_uri": "https://localhost:8080/",
          "height": 909,
          "referenced_widgets": [
            "c1aa45216a4f4c8fa5592c96a255e271",
            "cb6f71d861f14e2ea6763c904029cc63",
            "a15985f97c0f4e72a0bd8335305f0dd3",
            "989759523d0b431d8e2103b1b17e3699",
            "a2160f861e914f3fb06795822e7b3ba6",
            "371d771d228d4bc9bfb93a794605a893",
            "a474b15eb85d4aaaa780aee4eb9a69b1",
            "9d3837eae9fd456290c50dffd1acdf73",
            "1ebaff763f82458db9b50700c1b252a4",
            "af6ebb8ddd454fdea4d2090bf760ba8b",
            "2115fe3ca53b4a5eac7417622c06e1e3",
            "03514fbec67346a5bc1be9df8cdfd25e",
            "cb1b542d85494cc088160f57f66a9322",
            "024ea33e780542dca61475a870ac4bbb",
            "a0535bd67a6a4e5cad17cb7fb89ae9dd",
            "f8a5265e627d4fd29cf82c575b7572b6",
            "493167c6e5ca414c9fef8fb0dd6f80f6",
            "85e3bf75fe29486aa4218a00b0aac8b4",
            "7dae1b81f8124deb90b436be66d1a0b2",
            "4a3d6b9bdd3e4427bcbaffff99de5c2f",
            "2bbe6e94f0f14fc68bbbc069e2e0010d",
            "fd56c0862c5540fe98c8cd412666888e",
            "d054c48b02d84f3e8c4e0919f12e3eab",
            "2614e93a21234db7b4cdb31a287bfb73",
            "29e76275fa35469a9f55d4b8354d8125",
            "faade3e1af5f4e159cb8841230bb3249",
            "965ea9293bfb4bbc97115909387eb6c6",
            "a20b262c336341058b9b96fb16a43b00",
            "450238db3636450c9ba740c61919e9e6",
            "abd3c79c76984c5c853665ea32f20eaa",
            "8e32f979506a412badbe3b1af305f178",
            "f04e784ca6974b09b0a7e2eceb54f057",
            "726de091ea474faab263801a5a861585",
            "5b1b765516994f5b860d1e913aedd691",
            "edebb217d50e4d2899e7ea88eb1f473b",
            "c13cd4fa7ff44133910c3823592be718",
            "43d68dc738514afb87f1dc14384c1767",
            "ba1c746d0d45457b981455d3cc175c2c",
            "17f4acafca16456e943c85188c34cc04",
            "e533732fd90d4571b9c3e7f15f27ed55",
            "b6c2b179043547b787c5ef304f78345c",
            "e5838561eacc455aa6ae6bde006ef707",
            "595cff3ffb284ba2aa91d79f70f93e41",
            "367eef39b0124515817729cab85cdda6"
          ]
        },
        "id": "veQEHV5tajdP",
        "outputId": "89520c49-4c22-4f53-8e68-cdf049262174"
      },
      "outputs": [
        {
          "name": "stdout",
          "output_type": "stream",
          "text": [
            "Requirement already satisfied: datasets in c:\\users\\kashish\\1.kashish\\manchester\\semester 2\\text mining\\project\\tmenv\\lib\\site-packages (2.17.1)\n",
            "Requirement already satisfied: filelock in c:\\users\\kashish\\1.kashish\\manchester\\semester 2\\text mining\\project\\tmenv\\lib\\site-packages (from datasets) (3.13.1)\n",
            "Requirement already satisfied: numpy>=1.17 in c:\\users\\kashish\\1.kashish\\manchester\\semester 2\\text mining\\project\\tmenv\\lib\\site-packages (from datasets) (1.26.4)\n",
            "Requirement already satisfied: pyarrow>=12.0.0 in c:\\users\\kashish\\1.kashish\\manchester\\semester 2\\text mining\\project\\tmenv\\lib\\site-packages (from datasets) (15.0.0)\n",
            "Requirement already satisfied: pyarrow-hotfix in c:\\users\\kashish\\1.kashish\\manchester\\semester 2\\text mining\\project\\tmenv\\lib\\site-packages (from datasets) (0.6)\n",
            "Requirement already satisfied: dill<0.3.9,>=0.3.0 in c:\\users\\kashish\\1.kashish\\manchester\\semester 2\\text mining\\project\\tmenv\\lib\\site-packages (from datasets) (0.3.8)\n",
            "Requirement already satisfied: pandas in c:\\users\\kashish\\1.kashish\\manchester\\semester 2\\text mining\\project\\tmenv\\lib\\site-packages (from datasets) (2.2.1)\n",
            "Requirement already satisfied: requests>=2.19.0 in c:\\users\\kashish\\1.kashish\\manchester\\semester 2\\text mining\\project\\tmenv\\lib\\site-packages (from datasets) (2.31.0)\n",
            "Requirement already satisfied: tqdm>=4.62.1 in c:\\users\\kashish\\1.kashish\\manchester\\semester 2\\text mining\\project\\tmenv\\lib\\site-packages (from datasets) (4.66.2)\n",
            "Requirement already satisfied: xxhash in c:\\users\\kashish\\1.kashish\\manchester\\semester 2\\text mining\\project\\tmenv\\lib\\site-packages (from datasets) (3.4.1)\n",
            "Requirement already satisfied: multiprocess in c:\\users\\kashish\\1.kashish\\manchester\\semester 2\\text mining\\project\\tmenv\\lib\\site-packages (from datasets) (0.70.16)\n",
            "Requirement already satisfied: fsspec<=2023.10.0,>=2023.1.0 in c:\\users\\kashish\\1.kashish\\manchester\\semester 2\\text mining\\project\\tmenv\\lib\\site-packages (from fsspec[http]<=2023.10.0,>=2023.1.0->datasets) (2023.10.0)\n",
            "Requirement already satisfied: aiohttp in c:\\users\\kashish\\1.kashish\\manchester\\semester 2\\text mining\\project\\tmenv\\lib\\site-packages (from datasets) (3.9.3)\n",
            "Requirement already satisfied: huggingface-hub>=0.19.4 in c:\\users\\kashish\\1.kashish\\manchester\\semester 2\\text mining\\project\\tmenv\\lib\\site-packages (from datasets) (0.20.3)\n",
            "Requirement already satisfied: packaging in c:\\users\\kashish\\1.kashish\\manchester\\semester 2\\text mining\\project\\tmenv\\lib\\site-packages (from datasets) (23.2)\n",
            "Requirement already satisfied: pyyaml>=5.1 in c:\\users\\kashish\\1.kashish\\manchester\\semester 2\\text mining\\project\\tmenv\\lib\\site-packages (from datasets) (6.0.1)\n",
            "Requirement already satisfied: aiosignal>=1.1.2 in c:\\users\\kashish\\1.kashish\\manchester\\semester 2\\text mining\\project\\tmenv\\lib\\site-packages (from aiohttp->datasets) (1.3.1)\n",
            "Requirement already satisfied: attrs>=17.3.0 in c:\\users\\kashish\\1.kashish\\manchester\\semester 2\\text mining\\project\\tmenv\\lib\\site-packages (from aiohttp->datasets) (23.2.0)\n",
            "Requirement already satisfied: frozenlist>=1.1.1 in c:\\users\\kashish\\1.kashish\\manchester\\semester 2\\text mining\\project\\tmenv\\lib\\site-packages (from aiohttp->datasets) (1.4.1)\n",
            "Requirement already satisfied: multidict<7.0,>=4.5 in c:\\users\\kashish\\1.kashish\\manchester\\semester 2\\text mining\\project\\tmenv\\lib\\site-packages (from aiohttp->datasets) (6.0.5)\n",
            "Requirement already satisfied: yarl<2.0,>=1.0 in c:\\users\\kashish\\1.kashish\\manchester\\semester 2\\text mining\\project\\tmenv\\lib\\site-packages (from aiohttp->datasets) (1.9.4)\n",
            "Requirement already satisfied: typing-extensions>=3.7.4.3 in c:\\users\\kashish\\1.kashish\\manchester\\semester 2\\text mining\\project\\tmenv\\lib\\site-packages (from huggingface-hub>=0.19.4->datasets) (4.10.0)\n",
            "Requirement already satisfied: charset-normalizer<4,>=2 in c:\\users\\kashish\\1.kashish\\manchester\\semester 2\\text mining\\project\\tmenv\\lib\\site-packages (from requests>=2.19.0->datasets) (3.3.2)\n",
            "Requirement already satisfied: idna<4,>=2.5 in c:\\users\\kashish\\1.kashish\\manchester\\semester 2\\text mining\\project\\tmenv\\lib\\site-packages (from requests>=2.19.0->datasets) (3.6)\n",
            "Requirement already satisfied: urllib3<3,>=1.21.1 in c:\\users\\kashish\\1.kashish\\manchester\\semester 2\\text mining\\project\\tmenv\\lib\\site-packages (from requests>=2.19.0->datasets) (2.2.1)\n",
            "Requirement already satisfied: certifi>=2017.4.17 in c:\\users\\kashish\\1.kashish\\manchester\\semester 2\\text mining\\project\\tmenv\\lib\\site-packages (from requests>=2.19.0->datasets) (2024.2.2)\n",
            "Requirement already satisfied: colorama in c:\\users\\kashish\\1.kashish\\manchester\\semester 2\\text mining\\project\\tmenv\\lib\\site-packages (from tqdm>=4.62.1->datasets) (0.4.6)\n",
            "Requirement already satisfied: python-dateutil>=2.8.2 in c:\\users\\kashish\\1.kashish\\manchester\\semester 2\\text mining\\project\\tmenv\\lib\\site-packages (from pandas->datasets) (2.8.2)\n",
            "Requirement already satisfied: pytz>=2020.1 in c:\\users\\kashish\\1.kashish\\manchester\\semester 2\\text mining\\project\\tmenv\\lib\\site-packages (from pandas->datasets) (2024.1)\n",
            "Requirement already satisfied: tzdata>=2022.7 in c:\\users\\kashish\\1.kashish\\manchester\\semester 2\\text mining\\project\\tmenv\\lib\\site-packages (from pandas->datasets) (2024.1)\n",
            "Requirement already satisfied: six>=1.5 in c:\\users\\kashish\\1.kashish\\manchester\\semester 2\\text mining\\project\\tmenv\\lib\\site-packages (from python-dateutil>=2.8.2->pandas->datasets) (1.16.0)\n"
          ]
        },
        {
          "name": "stderr",
          "output_type": "stream",
          "text": [
            "c:\\Users\\Kashish\\1.Kashish\\Manchester\\Semester 2\\Text Mining\\Project\\tmenv\\Lib\\site-packages\\tqdm\\auto.py:21: TqdmWarning: IProgress not found. Please update jupyter and ipywidgets. See https://ipywidgets.readthedocs.io/en/stable/user_install.html\n",
            "  from .autonotebook import tqdm as notebook_tqdm\n"
          ]
        }
      ],
      "source": [
        "# Importing the load_dataset function from the datasets library\n",
        "from datasets import load_dataset\n",
        "\n",
        "# Loading the SemEval 2010 Task 8 dataset using the load_dataset function\n",
        "dataset = load_dataset(\"sem_eval_2010_task_8\")"
      ]
    },
    {
      "cell_type": "code",
      "execution_count": 21,
      "metadata": {
        "colab": {
          "base_uri": "https://localhost:8080/"
        },
        "id": "3AIgH6AXak2k",
        "outputId": "181902e0-a811-4ec9-99a8-04968bb05b84"
      },
      "outputs": [
        {
          "name": "stdout",
          "output_type": "stream",
          "text": [
            "DatasetDict({\n",
            "    train: Dataset({\n",
            "        features: ['sentence', 'relation'],\n",
            "        num_rows: 8000\n",
            "    })\n",
            "    test: Dataset({\n",
            "        features: ['sentence', 'relation'],\n",
            "        num_rows: 2717\n",
            "    })\n",
            "})\n"
          ]
        }
      ],
      "source": [
        "# Printing the loaded dataset\n",
        "print(dataset)"
      ]
    },
    {
      "cell_type": "code",
      "execution_count": 7,
      "metadata": {
        "id": "XjtYNttdanQF"
      },
      "outputs": [],
      "source": [
        "# Extracting the training and testing data from the loaded dataset\n",
        "train_data = dataset[\"train\"]\n",
        "test_data = dataset[\"test\"]"
      ]
    },
    {
      "cell_type": "code",
      "execution_count": 27,
      "metadata": {
        "colab": {
          "base_uri": "https://localhost:8080/"
        },
        "id": "X1pnoqWUauCO",
        "outputId": "3f32cd67-5946-438c-87fa-093aa71c2fcb"
      },
      "outputs": [
        {
          "data": {
            "text/plain": [
              "Dataset({\n",
              "    features: ['sentence', 'relation'],\n",
              "    num_rows: 2717\n",
              "})"
            ]
          },
          "execution_count": 27,
          "metadata": {},
          "output_type": "execute_result"
        }
      ],
      "source": [
        "# Displaying the testing data\n",
        "test_data"
      ]
    },
    {
      "cell_type": "markdown",
      "metadata": {
        "id": "TxLDafewa0xA"
      },
      "source": [
        "### Convert Train_data to a DataFrame"
      ]
    },
    {
      "cell_type": "code",
      "execution_count": 9,
      "metadata": {
        "colab": {
          "base_uri": "https://localhost:8080/",
          "height": 424
        },
        "id": "iWHZd_H7ayqd",
        "outputId": "cbf48044-3c02-4e65-d238-c5e63ed66dd9"
      },
      "outputs": [
        {
          "data": {
            "text/html": [
              "<div>\n",
              "<style scoped>\n",
              "    .dataframe tbody tr th:only-of-type {\n",
              "        vertical-align: middle;\n",
              "    }\n",
              "\n",
              "    .dataframe tbody tr th {\n",
              "        vertical-align: top;\n",
              "    }\n",
              "\n",
              "    .dataframe thead th {\n",
              "        text-align: right;\n",
              "    }\n",
              "</style>\n",
              "<table border=\"1\" class=\"dataframe\">\n",
              "  <thead>\n",
              "    <tr style=\"text-align: right;\">\n",
              "      <th></th>\n",
              "      <th>sentence</th>\n",
              "      <th>relation</th>\n",
              "    </tr>\n",
              "  </thead>\n",
              "  <tbody>\n",
              "    <tr>\n",
              "      <th>0</th>\n",
              "      <td>The system as described above has its greatest...</td>\n",
              "      <td>3</td>\n",
              "    </tr>\n",
              "    <tr>\n",
              "      <th>1</th>\n",
              "      <td>The &lt;e1&gt;child&lt;/e1&gt; was carefully wrapped and b...</td>\n",
              "      <td>18</td>\n",
              "    </tr>\n",
              "    <tr>\n",
              "      <th>2</th>\n",
              "      <td>The &lt;e1&gt;author&lt;/e1&gt; of a keygen uses a &lt;e2&gt;dis...</td>\n",
              "      <td>11</td>\n",
              "    </tr>\n",
              "    <tr>\n",
              "      <th>3</th>\n",
              "      <td>A misty &lt;e1&gt;ridge&lt;/e1&gt; uprises from the &lt;e2&gt;su...</td>\n",
              "      <td>18</td>\n",
              "    </tr>\n",
              "    <tr>\n",
              "      <th>4</th>\n",
              "      <td>The &lt;e1&gt;student&lt;/e1&gt; &lt;e2&gt;association&lt;/e2&gt; is t...</td>\n",
              "      <td>12</td>\n",
              "    </tr>\n",
              "    <tr>\n",
              "      <th>...</th>\n",
              "      <td>...</td>\n",
              "      <td>...</td>\n",
              "    </tr>\n",
              "    <tr>\n",
              "      <th>7995</th>\n",
              "      <td>When the &lt;e1&gt;notice&lt;/e1&gt; is sent by &lt;e2&gt;fax&lt;/e...</td>\n",
              "      <td>18</td>\n",
              "    </tr>\n",
              "    <tr>\n",
              "      <th>7996</th>\n",
              "      <td>The &lt;e1&gt;herbicide&lt;/e1&gt; is derived from a natur...</td>\n",
              "      <td>8</td>\n",
              "    </tr>\n",
              "    <tr>\n",
              "      <th>7997</th>\n",
              "      <td>To test this, we placed a kitchen &lt;e1&gt;match&lt;/e...</td>\n",
              "      <td>6</td>\n",
              "    </tr>\n",
              "    <tr>\n",
              "      <th>7998</th>\n",
              "      <td>The farmers and city officials in the region h...</td>\n",
              "      <td>18</td>\n",
              "    </tr>\n",
              "    <tr>\n",
              "      <th>7999</th>\n",
              "      <td>The &lt;e1&gt;surgeon&lt;/e1&gt; cuts a small &lt;e2&gt;hole&lt;/e2...</td>\n",
              "      <td>17</td>\n",
              "    </tr>\n",
              "  </tbody>\n",
              "</table>\n",
              "<p>8000 rows × 2 columns</p>\n",
              "</div>"
            ],
            "text/plain": [
              "                                               sentence  relation\n",
              "0     The system as described above has its greatest...         3\n",
              "1     The <e1>child</e1> was carefully wrapped and b...        18\n",
              "2     The <e1>author</e1> of a keygen uses a <e2>dis...        11\n",
              "3     A misty <e1>ridge</e1> uprises from the <e2>su...        18\n",
              "4     The <e1>student</e1> <e2>association</e2> is t...        12\n",
              "...                                                 ...       ...\n",
              "7995  When the <e1>notice</e1> is sent by <e2>fax</e...        18\n",
              "7996  The <e1>herbicide</e1> is derived from a natur...         8\n",
              "7997  To test this, we placed a kitchen <e1>match</e...         6\n",
              "7998  The farmers and city officials in the region h...        18\n",
              "7999  The <e1>surgeon</e1> cuts a small <e2>hole</e2...        17\n",
              "\n",
              "[8000 rows x 2 columns]"
            ]
          },
          "execution_count": 9,
          "metadata": {},
          "output_type": "execute_result"
        }
      ],
      "source": [
        "# Converting the training data to a DataFrame using pandas\n",
        "train_df = pd.DataFrame(train_data)\n",
        "train_df"
      ]
    },
    {
      "cell_type": "markdown",
      "metadata": {
        "id": "T7lNc_LAa4XM"
      },
      "source": [
        "### Generating Word Cloud for Initial Training Data\n"
      ]
    },
    {
      "cell_type": "code",
      "execution_count": 10,
      "metadata": {
        "colab": {
          "base_uri": "https://localhost:8080/",
          "height": 444
        },
        "id": "3RS59vVSa2K8",
        "outputId": "c1151015-f60b-4644-dc22-303d57370705"
      },
      "outputs": [
        {
          "data": {
            "image/png": "[encoded data removed]",
            "text/plain": [
              "<Figure size 1000x500 with 1 Axes>"
            ]
          },
          "metadata": {},
          "output_type": "display_data"
        }
      ],
      "source": [
        "# Concatenating all sentences into a corpus of text\n",
        "all_sentences_train = \" \".join(train_df[\"sentence\"])\n",
        "\n",
        "# Create word cloud for training data\n",
        "wordcloud_train = WordCloud(width=800, height=400, background_color=\"white\")\n",
        "wordcloud_train.generate(all_sentences_train)\n",
        "\n",
        "#Display the word cloud for training data\n",
        "plt.figure(figsize=(10, 5))\n",
        "plt.imshow(wordcloud_train, interpolation='bilinear')\n",
        "plt.title(\"Word Cloud for Training Data\")\n",
        "plt.axis(\"off\")\n",
        "plt.show()"
      ]
    },
    {
      "cell_type": "markdown",
      "metadata": {},
      "source": [
        "### Entity Extraction from Sentences\n",
        "\n",
        "Function to extract entities and their indices from cleaned sentence.\n",
        "\n",
        "Args:\n",
        "- sentence (str): The cleaned sentence with entity tags.\n",
        "\n",
        "Returns:\n",
        "- e1 (str): The text of the first entity.\n",
        "- e2 (str): The text of the second entity.\n",
        "- e1_index (int): The starting index of the first entity.\n",
        "- e2_index (int): The starting index of the second entity."
      ]
    },
    {
      "cell_type": "code",
      "execution_count": 11,
      "metadata": {
        "id": "nKNj_shHa7a4"
      },
      "outputs": [],
      "source": [
        "# Function to extract entities and their indices from cleaned sentence\n",
        "def extract_entities(sentence):\n",
        "    # Using regular expressions to find the text between <e1> and </e1> tags and <e2> and </e2> tags\n",
        "    e1_match = re.search(r'<e1>(.*?)<\\/e1>', sentence)\n",
        "    e2_match = re.search(r'<e2>(.*?)<\\/e2>', sentence)\n",
        "\n",
        "    # Extracting entity texts or setting empty string if not found\n",
        "    e1 = e1_match.group(1) if e1_match else ''\n",
        "    e2 = e2_match.group(1) if e2_match else ''\n",
        "\n",
        "    # Extracting entity indices or setting -1 if not found\n",
        "    e1_index = e1_match.start() if e1_match else -1\n",
        "    e2_index = e2_match.start() if e2_match else -1\n",
        "\n",
        "    return e1, e2, e1_index, e2_index\n",
        "\n",
        "# Apply the function to each row in the DataFrame\n",
        "train_df['e1'], train_df['e2'], train_df['e1_index'], train_df['e2_index'] = zip(*train_df['sentence'].apply(extract_entities))\n"
      ]
    },
    {
      "cell_type": "code",
      "execution_count": 12,
      "metadata": {
        "colab": {
          "base_uri": "https://localhost:8080/",
          "height": 144
        },
        "id": "zL6snpVRa8OP",
        "outputId": "323c959c-db66-42f1-ff89-c1d1c600c31f"
      },
      "outputs": [
        {
          "data": {
            "text/html": [
              "<div>\n",
              "<style scoped>\n",
              "    .dataframe tbody tr th:only-of-type {\n",
              "        vertical-align: middle;\n",
              "    }\n",
              "\n",
              "    .dataframe tbody tr th {\n",
              "        vertical-align: top;\n",
              "    }\n",
              "\n",
              "    .dataframe thead th {\n",
              "        text-align: right;\n",
              "    }\n",
              "</style>\n",
              "<table border=\"1\" class=\"dataframe\">\n",
              "  <thead>\n",
              "    <tr style=\"text-align: right;\">\n",
              "      <th></th>\n",
              "      <th>sentence</th>\n",
              "      <th>relation</th>\n",
              "      <th>e1</th>\n",
              "      <th>e2</th>\n",
              "      <th>e1_index</th>\n",
              "      <th>e2_index</th>\n",
              "    </tr>\n",
              "  </thead>\n",
              "  <tbody>\n",
              "    <tr>\n",
              "      <th>0</th>\n",
              "      <td>The system as described above has its greatest...</td>\n",
              "      <td>3</td>\n",
              "      <td>configuration</td>\n",
              "      <td>elements</td>\n",
              "      <td>73</td>\n",
              "      <td>107</td>\n",
              "    </tr>\n",
              "    <tr>\n",
              "      <th>1</th>\n",
              "      <td>The &lt;e1&gt;child&lt;/e1&gt; was carefully wrapped and b...</td>\n",
              "      <td>18</td>\n",
              "      <td>child</td>\n",
              "      <td>cradle</td>\n",
              "      <td>4</td>\n",
              "      <td>60</td>\n",
              "    </tr>\n",
              "    <tr>\n",
              "      <th>2</th>\n",
              "      <td>The &lt;e1&gt;author&lt;/e1&gt; of a keygen uses a &lt;e2&gt;dis...</td>\n",
              "      <td>11</td>\n",
              "      <td>author</td>\n",
              "      <td>disassembler</td>\n",
              "      <td>4</td>\n",
              "      <td>39</td>\n",
              "    </tr>\n",
              "  </tbody>\n",
              "</table>\n",
              "</div>"
            ],
            "text/plain": [
              "                                            sentence  relation             e1  \\\n",
              "0  The system as described above has its greatest...         3  configuration   \n",
              "1  The <e1>child</e1> was carefully wrapped and b...        18          child   \n",
              "2  The <e1>author</e1> of a keygen uses a <e2>dis...        11         author   \n",
              "\n",
              "             e2  e1_index  e2_index  \n",
              "0      elements        73       107  \n",
              "1        cradle         4        60  \n",
              "2  disassembler         4        39  "
            ]
          },
          "execution_count": 12,
          "metadata": {},
          "output_type": "execute_result"
        }
      ],
      "source": [
        "train_df.head(3)"
      ]
    },
    {
      "cell_type": "markdown",
      "metadata": {
        "id": "LU7EeT5UbALt"
      },
      "source": [
        "## Data Cleaning\n",
        "\n",
        "This function takes a DataFrame containing training data as input and returns a list of tokenized sentences. Each sentence is cleaned by converting it to lowercase, replacing entity tags with special tokens, and removing non-alphanumeric characters. Finally, the sentences are tokenized using NLTK's word_tokenize function.\n",
        "\n",
        "Steps involved:\n",
        "\n",
        "1. **Sentence Extraction**: For each row, it extracts the sentence and removes any leading or trailing quotes.\n",
        "2. **Lowercasing**: It converts the extracted sentence to lowercase using the lower() method.\n",
        "3. **Entity Tag Replacement**: It replaces <e1>, </e1>, <e2>, and </e2> tags with special tokens (E1_START, E1_END, E2_START, E2_END) using the replace() method.\n",
        "4. **Noise Removal**: It removes non-alphanumeric characters from the sentence using regular expressions (re.sub()).\n",
        "5. **Tokenization**: It tokenizes the cleaned sentence using NLTK's word_tokenize() function.\n",
        "6. **Storing Tokens**: It stores the tokenized sentence in the sentences list.\n",
        "7. **Return**: Finally, it returns the list of tokenized sentences (sentences)."
      ]
    },
    {
      "cell_type": "code",
      "execution_count": 13,
      "metadata": {
        "id": "AQEJhI4la-Jb"
      },
      "outputs": [],
      "source": [
        "def clean_and_tokenize(train_df):\n",
        "    \"\"\"\n",
        "    Function to clean and tokenize sentences in the DataFrame.\n",
        "\n",
        "    Args:\n",
        "    - train_df (DataFrame): DataFrame containing the training data.\n",
        "\n",
        "    Returns:\n",
        "    - sentences (list of lists): Tokenized sentences.\n",
        "    \"\"\"\n",
        "    sentences, relations = [], []\n",
        "\n",
        "    for i, row in train_df.iterrows():\n",
        "        sentence = train_df['sentence'][i][0:-1]  # Remove leading/trailing quotes\n",
        "        #label = train_df['relation'][i]\n",
        "\n",
        "        # Convert Text to Lowercase\n",
        "        sentence = sentence.lower()\n",
        "\n",
        "        # Replace <e1> and </e1> tags with tokens\n",
        "        sentence = sentence.replace(\"<e1>\", \" E1_START \").replace(\"</e1>\", \" E1_END \")\n",
        "        # Replace <e2> and </e2> tags with tokens\n",
        "        sentence = sentence.replace(\"<e2>\", \" E2_START \").replace(\"</e2>\", \" E2_END \")\n",
        "\n",
        "        # Remove Noise\n",
        "        sentence = re.sub(r'[^a-zA-Z0-9\\s]', '', sentence)\n",
        "\n",
        "\n",
        "        # Tokenize the sentence\n",
        "        tokens = word_tokenize(sentence)\n",
        "\n",
        "        # Store preprocessed sentence and label\n",
        "        sentences.append(tokens)\n",
        "        #relations.append(label)\n",
        "\n",
        "    return sentences\n"
      ]
    },
    {
      "cell_type": "code",
      "execution_count": 14,
      "metadata": {
        "colab": {
          "base_uri": "https://localhost:8080/"
        },
        "id": "qCcYEBXbbDJR",
        "outputId": "0e275fa0-6514-4d09-8e35-3557be80299e"
      },
      "outputs": [
        {
          "data": {
            "text/plain": [
              "['the',\n",
              " 'E1START',\n",
              " 'child',\n",
              " 'E1END',\n",
              " 'was',\n",
              " 'carefully',\n",
              " 'wrapped',\n",
              " 'and',\n",
              " 'bound',\n",
              " 'into',\n",
              " 'the',\n",
              " 'E2START',\n",
              " 'cradle',\n",
              " 'E2END',\n",
              " 'by',\n",
              " 'means',\n",
              " 'of',\n",
              " 'a',\n",
              " 'cord']"
            ]
          },
          "execution_count": 14,
          "metadata": {},
          "output_type": "execute_result"
        }
      ],
      "source": [
        "# Access the tokenized representation of the second sentence in the preprocessed training data\n",
        "sentences = clean_and_tokenize(train_df)\n",
        "sentences[1]"
      ]
    },
    {
      "cell_type": "code",
      "execution_count": 15,
      "metadata": {
        "id": "XZnGUaC1bFgx"
      },
      "outputs": [],
      "source": [
        "# Apply the clean_and_tokenize function to preprocess and tokenize each sentence in the training data\n",
        "train_df['cleaned_tokens'] = clean_and_tokenize(train_df)"
      ]
    },
    {
      "cell_type": "code",
      "execution_count": 16,
      "metadata": {
        "colab": {
          "base_uri": "https://localhost:8080/",
          "height": 144
        },
        "id": "4DaBCWQObGrq",
        "outputId": "90259cd0-381a-4814-983c-3a7039cf7b96"
      },
      "outputs": [
        {
          "data": {
            "text/html": [
              "<div>\n",
              "<style scoped>\n",
              "    .dataframe tbody tr th:only-of-type {\n",
              "        vertical-align: middle;\n",
              "    }\n",
              "\n",
              "    .dataframe tbody tr th {\n",
              "        vertical-align: top;\n",
              "    }\n",
              "\n",
              "    .dataframe thead th {\n",
              "        text-align: right;\n",
              "    }\n",
              "</style>\n",
              "<table border=\"1\" class=\"dataframe\">\n",
              "  <thead>\n",
              "    <tr style=\"text-align: right;\">\n",
              "      <th></th>\n",
              "      <th>sentence</th>\n",
              "      <th>relation</th>\n",
              "      <th>e1</th>\n",
              "      <th>e2</th>\n",
              "      <th>e1_index</th>\n",
              "      <th>e2_index</th>\n",
              "      <th>cleaned_tokens</th>\n",
              "    </tr>\n",
              "  </thead>\n",
              "  <tbody>\n",
              "    <tr>\n",
              "      <th>0</th>\n",
              "      <td>The system as described above has its greatest...</td>\n",
              "      <td>3</td>\n",
              "      <td>configuration</td>\n",
              "      <td>elements</td>\n",
              "      <td>73</td>\n",
              "      <td>107</td>\n",
              "      <td>[the, system, as, described, above, has, its, ...</td>\n",
              "    </tr>\n",
              "    <tr>\n",
              "      <th>1</th>\n",
              "      <td>The &lt;e1&gt;child&lt;/e1&gt; was carefully wrapped and b...</td>\n",
              "      <td>18</td>\n",
              "      <td>child</td>\n",
              "      <td>cradle</td>\n",
              "      <td>4</td>\n",
              "      <td>60</td>\n",
              "      <td>[the, E1START, child, E1END, was, carefully, w...</td>\n",
              "    </tr>\n",
              "    <tr>\n",
              "      <th>2</th>\n",
              "      <td>The &lt;e1&gt;author&lt;/e1&gt; of a keygen uses a &lt;e2&gt;dis...</td>\n",
              "      <td>11</td>\n",
              "      <td>author</td>\n",
              "      <td>disassembler</td>\n",
              "      <td>4</td>\n",
              "      <td>39</td>\n",
              "      <td>[the, E1START, author, E1END, of, a, keygen, u...</td>\n",
              "    </tr>\n",
              "  </tbody>\n",
              "</table>\n",
              "</div>"
            ],
            "text/plain": [
              "                                            sentence  relation             e1  \\\n",
              "0  The system as described above has its greatest...         3  configuration   \n",
              "1  The <e1>child</e1> was carefully wrapped and b...        18          child   \n",
              "2  The <e1>author</e1> of a keygen uses a <e2>dis...        11         author   \n",
              "\n",
              "             e2  e1_index  e2_index  \\\n",
              "0      elements        73       107   \n",
              "1        cradle         4        60   \n",
              "2  disassembler         4        39   \n",
              "\n",
              "                                      cleaned_tokens  \n",
              "0  [the, system, as, described, above, has, its, ...  \n",
              "1  [the, E1START, child, E1END, was, carefully, w...  \n",
              "2  [the, E1START, author, E1END, of, a, keygen, u...  "
            ]
          },
          "execution_count": 16,
          "metadata": {},
          "output_type": "execute_result"
        }
      ],
      "source": [
        "# Display the first 3 rows of the DataFrame after preprocessing\n",
        "train_df.head(3)"
      ]
    },
    {
      "cell_type": "markdown",
      "metadata": {},
      "source": [
        "## Dependency Pasre Tree Structure"
      ]
    },
    {
      "cell_type": "code",
      "execution_count": null,
      "metadata": {},
      "outputs": [],
      "source": [
        "#These commands install the SpaCy library and download the English language model required for processing text.\n",
        "pip install spacy\n",
        "python -m spacy download en_core_web_sm"
      ]
    },
    {
      "cell_type": "markdown",
      "metadata": {},
      "source": [
        "### Dependency Parsing Visualization after processing the sentences using SpaCy\n",
        "This code block showcases how to process sentences, visualize dependency parse trees, and extract token dependency information using the SpaCy library in Python."
      ]
    },
    {
      "cell_type": "code",
      "execution_count": 20,
      "metadata": {},
      "outputs": [
        {
          "name": "stdout",
          "output_type": "stream",
          "text": [
            "Dependency Parse for Sentence 1: 'People have been moving back into downtown.'\n"
          ]
        },
        {
          "data": {
            "text/html": [
              "<span class=\"tex2jax_ignore\"><svg xmlns=\"http://www.w3.org/2000/svg\" xmlns:xlink=\"http://www.w3.org/1999/xlink\" xml:lang=\"en\" id=\"8bb0a1cfb5b643ba9857ff5f865c7f8b-0\" class=\"displacy\" width=\"1100\" height=\"362.0\" direction=\"ltr\" style=\"max-width: none; height: 362.0px; color: black; background: white; font-family: Source Sans Pro; direction: ltr\">\n",
              "<text class=\"displacy-token\" fill=\"currentColor\" text-anchor=\"middle\" y=\"272.0\">\n",
              "    <tspan class=\"displacy-word\" fill=\"currentColor\" x=\"50\">People</tspan>\n",
              "    <tspan class=\"displacy-tag\" dy=\"2em\" fill=\"currentColor\" x=\"50\">NOUN</tspan>\n",
              "</text>\n",
              "\n",
              "<text class=\"displacy-token\" fill=\"currentColor\" text-anchor=\"middle\" y=\"272.0\">\n",
              "    <tspan class=\"displacy-word\" fill=\"currentColor\" x=\"200\">have</tspan>\n",
              "    <tspan class=\"displacy-tag\" dy=\"2em\" fill=\"currentColor\" x=\"200\">AUX</tspan>\n",
              "</text>\n",
              "\n",
              "<text class=\"displacy-token\" fill=\"currentColor\" text-anchor=\"middle\" y=\"272.0\">\n",
              "    <tspan class=\"displacy-word\" fill=\"currentColor\" x=\"350\">been</tspan>\n",
              "    <tspan class=\"displacy-tag\" dy=\"2em\" fill=\"currentColor\" x=\"350\">AUX</tspan>\n",
              "</text>\n",
              "\n",
              "<text class=\"displacy-token\" fill=\"currentColor\" text-anchor=\"middle\" y=\"272.0\">\n",
              "    <tspan class=\"displacy-word\" fill=\"currentColor\" x=\"500\">moving</tspan>\n",
              "    <tspan class=\"displacy-tag\" dy=\"2em\" fill=\"currentColor\" x=\"500\">VERB</tspan>\n",
              "</text>\n",
              "\n",
              "<text class=\"displacy-token\" fill=\"currentColor\" text-anchor=\"middle\" y=\"272.0\">\n",
              "    <tspan class=\"displacy-word\" fill=\"currentColor\" x=\"650\">back</tspan>\n",
              "    <tspan class=\"displacy-tag\" dy=\"2em\" fill=\"currentColor\" x=\"650\">ADV</tspan>\n",
              "</text>\n",
              "\n",
              "<text class=\"displacy-token\" fill=\"currentColor\" text-anchor=\"middle\" y=\"272.0\">\n",
              "    <tspan class=\"displacy-word\" fill=\"currentColor\" x=\"800\">into</tspan>\n",
              "    <tspan class=\"displacy-tag\" dy=\"2em\" fill=\"currentColor\" x=\"800\">ADP</tspan>\n",
              "</text>\n",
              "\n",
              "<text class=\"displacy-token\" fill=\"currentColor\" text-anchor=\"middle\" y=\"272.0\">\n",
              "    <tspan class=\"displacy-word\" fill=\"currentColor\" x=\"950\">downtown.</tspan>\n",
              "    <tspan class=\"displacy-tag\" dy=\"2em\" fill=\"currentColor\" x=\"950\">NOUN</tspan>\n",
              "</text>\n",
              "\n",
              "<g class=\"displacy-arrow\">\n",
              "    <path class=\"displacy-arc\" id=\"arrow-8bb0a1cfb5b643ba9857ff5f865c7f8b-0-0\" stroke-width=\"2px\" d=\"M62,227.0 62,152.0 500.0,152.0 500.0,227.0\" fill=\"none\" stroke=\"currentColor\"/>\n",
              "    <text dy=\"1.25em\" style=\"font-size: 0.8em; letter-spacing: 1px\">\n",
              "        <textPath xlink:href=\"#arrow-8bb0a1cfb5b643ba9857ff5f865c7f8b-0-0\" class=\"displacy-label\" startOffset=\"50%\" side=\"left\" fill=\"currentColor\" text-anchor=\"middle\">nsubj</textPath>\n",
              "    </text>\n",
              "    <path class=\"displacy-arrowhead\" d=\"M62,229.0 L58,221.0 66,221.0\" fill=\"currentColor\"/>\n",
              "</g>\n",
              "\n",
              "<g class=\"displacy-arrow\">\n",
              "    <path class=\"displacy-arc\" id=\"arrow-8bb0a1cfb5b643ba9857ff5f865c7f8b-0-1\" stroke-width=\"2px\" d=\"M212,227.0 212,177.0 497.0,177.0 497.0,227.0\" fill=\"none\" stroke=\"currentColor\"/>\n",
              "    <text dy=\"1.25em\" style=\"font-size: 0.8em; letter-spacing: 1px\">\n",
              "        <textPath xlink:href=\"#arrow-8bb0a1cfb5b643ba9857ff5f865c7f8b-0-1\" class=\"displacy-label\" startOffset=\"50%\" side=\"left\" fill=\"currentColor\" text-anchor=\"middle\">aux</textPath>\n",
              "    </text>\n",
              "    <path class=\"displacy-arrowhead\" d=\"M212,229.0 L208,221.0 216,221.0\" fill=\"currentColor\"/>\n",
              "</g>\n",
              "\n",
              "<g class=\"displacy-arrow\">\n",
              "    <path class=\"displacy-arc\" id=\"arrow-8bb0a1cfb5b643ba9857ff5f865c7f8b-0-2\" stroke-width=\"2px\" d=\"M362,227.0 362,202.0 494.0,202.0 494.0,227.0\" fill=\"none\" stroke=\"currentColor\"/>\n",
              "    <text dy=\"1.25em\" style=\"font-size: 0.8em; letter-spacing: 1px\">\n",
              "        <textPath xlink:href=\"#arrow-8bb0a1cfb5b643ba9857ff5f865c7f8b-0-2\" class=\"displacy-label\" startOffset=\"50%\" side=\"left\" fill=\"currentColor\" text-anchor=\"middle\">aux</textPath>\n",
              "    </text>\n",
              "    <path class=\"displacy-arrowhead\" d=\"M362,229.0 L358,221.0 366,221.0\" fill=\"currentColor\"/>\n",
              "</g>\n",
              "\n",
              "<g class=\"displacy-arrow\">\n",
              "    <path class=\"displacy-arc\" id=\"arrow-8bb0a1cfb5b643ba9857ff5f865c7f8b-0-3\" stroke-width=\"2px\" d=\"M512,227.0 512,202.0 644.0,202.0 644.0,227.0\" fill=\"none\" stroke=\"currentColor\"/>\n",
              "    <text dy=\"1.25em\" style=\"font-size: 0.8em; letter-spacing: 1px\">\n",
              "        <textPath xlink:href=\"#arrow-8bb0a1cfb5b643ba9857ff5f865c7f8b-0-3\" class=\"displacy-label\" startOffset=\"50%\" side=\"left\" fill=\"currentColor\" text-anchor=\"middle\">advmod</textPath>\n",
              "    </text>\n",
              "    <path class=\"displacy-arrowhead\" d=\"M644.0,229.0 L648.0,221.0 640.0,221.0\" fill=\"currentColor\"/>\n",
              "</g>\n",
              "\n",
              "<g class=\"displacy-arrow\">\n",
              "    <path class=\"displacy-arc\" id=\"arrow-8bb0a1cfb5b643ba9857ff5f865c7f8b-0-4\" stroke-width=\"2px\" d=\"M512,227.0 512,177.0 797.0,177.0 797.0,227.0\" fill=\"none\" stroke=\"currentColor\"/>\n",
              "    <text dy=\"1.25em\" style=\"font-size: 0.8em; letter-spacing: 1px\">\n",
              "        <textPath xlink:href=\"#arrow-8bb0a1cfb5b643ba9857ff5f865c7f8b-0-4\" class=\"displacy-label\" startOffset=\"50%\" side=\"left\" fill=\"currentColor\" text-anchor=\"middle\">prep</textPath>\n",
              "    </text>\n",
              "    <path class=\"displacy-arrowhead\" d=\"M797.0,229.0 L801.0,221.0 793.0,221.0\" fill=\"currentColor\"/>\n",
              "</g>\n",
              "\n",
              "<g class=\"displacy-arrow\">\n",
              "    <path class=\"displacy-arc\" id=\"arrow-8bb0a1cfb5b643ba9857ff5f865c7f8b-0-5\" stroke-width=\"2px\" d=\"M812,227.0 812,202.0 944.0,202.0 944.0,227.0\" fill=\"none\" stroke=\"currentColor\"/>\n",
              "    <text dy=\"1.25em\" style=\"font-size: 0.8em; letter-spacing: 1px\">\n",
              "        <textPath xlink:href=\"#arrow-8bb0a1cfb5b643ba9857ff5f865c7f8b-0-5\" class=\"displacy-label\" startOffset=\"50%\" side=\"left\" fill=\"currentColor\" text-anchor=\"middle\">pobj</textPath>\n",
              "    </text>\n",
              "    <path class=\"displacy-arrowhead\" d=\"M944.0,229.0 L948.0,221.0 940.0,221.0\" fill=\"currentColor\"/>\n",
              "</g>\n",
              "</svg></span>"
            ],
            "text/plain": [
              "<IPython.core.display.HTML object>"
            ]
          },
          "metadata": {},
          "output_type": "display_data"
        },
        {
          "name": "stdout",
          "output_type": "stream",
          "text": [
            "People <--nsubj-- moving\n",
            "have <--aux-- moving\n",
            "been <--aux-- moving\n",
            "moving <--ROOT-- moving\n",
            "back <--advmod-- moving\n",
            "into <--prep-- moving\n",
            "downtown <--pobj-- into\n",
            ". <--punct-- moving\n",
            "\n"
          ]
        }
      ],
      "source": [
        "# Load SpaCy English model\n",
        "nlp = spacy.load(\"en_core_web_sm\")\n",
        "\n",
        "# Sample sentences\n",
        "sentences = [\n",
        "    \"People have been moving back into downtown.\",\n",
        "]\n",
        "\n",
        "# Process each sentence and generate dependency parse structure\n",
        "\"\"\"\n",
        "The loop iterates through each sentence,\n",
        "processes it using SpaCy, and generates a dependency parse structure.\n",
        "\"\"\"\n",
        "for i, sentence in enumerate(sentences):\n",
        "    doc = nlp(sentence)\n",
        "    print(f\"Dependency Parse for Sentence {i+1}: '{sentence}'\")\n",
        "    \n",
        "    # Generate dependency parse tree diagram\n",
        "    options = {\"compact\": True, \"bg\": \"white\", \"color\": \"black\", \"font\": \"Source Sans Pro\", \"fontsize\": 25}\n",
        "    displacy.render(doc, style=\"dep\", options=options, jupyter=True)\n",
        "    \n",
        "    # Print the token dependency information\n",
        "    for token in doc:\n",
        "        print(f\"{token.text} <--{token.dep_}-- {token.head.text}\")\n",
        "    print()\n"
      ]
    },
    {
      "cell_type": "markdown",
      "metadata": {
        "id": "933GBSxrbJbY"
      },
      "source": [
        "## Padding and Tokenization\n",
        "This code block is responsible for tokenizing the cleaned sentences and then padding or truncating them to a fixed length for further processing\n",
        "\n",
        "1. **Fit Tokenizer on Cleaned Tokens**: The tokenizer is fitted on the cleaned tokens extracted from the training data. This step builds the vocabulary based on the tokens present in the data.\n",
        "2. Convert Sentences to Sequences: Using the tokenizer's texts_to_sequences method, the cleaned tokens are converted to sequences of indices. Each word in the sentences is replaced by its corresponding index in the vocabulary.\n",
        "3. **Padding/Truncating**: Finally, the sequences are padded or truncated to a fixed length (max_sent_len) using the pad_sequences function from TensorFlow. This ensures that all sequences have the same length, which is necessary for input to deep learning models."
      ]
    },
    {
      "cell_type": "code",
      "execution_count": 15,
      "metadata": {
        "colab": {
          "base_uri": "https://localhost:8080/"
        },
        "id": "J3Jbw_oXbHLS",
        "outputId": "9d33d456-84e6-4524-8dd1-9de180430558"
      },
      "outputs": [
        {
          "name": "stdout",
          "output_type": "stream",
          "text": [
            "Vocabulary size: 19936\n"
          ]
        },
        {
          "data": {
            "text/plain": [
              "array([[   1,   94,   21, ...,    0,    0,    0],\n",
              "       [   1,    2,  447, ...,    0,    0,    0],\n",
              "       [   1,    2,  226, ...,    0,    0,    0],\n",
              "       ...,\n",
              "       [  10,  740,   23, ...,    0,    0,    0],\n",
              "       [   1,  910,    8, ...,    0,    0,    0],\n",
              "       [   1,    2, 1532, ...,    0,    0,    0]], dtype=int32)"
            ]
          },
          "execution_count": 15,
          "metadata": {},
          "output_type": "execute_result"
        }
      ],
      "source": [
        "\n",
        "# Tokenize the sentences and pad/truncate them\n",
        "max_sent_len =100\n",
        "tokenizer = Tokenizer()\n",
        "\n",
        "# Fit tokenizer on the cleaned tokens\n",
        "tokenizer.fit_on_texts(list(train_df['cleaned_tokens']))\n",
        "\n",
        "# Print the vocabulary size\n",
        "print(\"Vocabulary size:\", len(tokenizer.word_counts))\n",
        "\n",
        "# Convert sentences to sequences of indices and pad/truncate to a fixed length\n",
        "sentences_idx = tokenizer.texts_to_sequences(train_df['cleaned_tokens'])\n",
        "sentences_idx = pad_sequences(sentences_idx, maxlen=max_sent_len, padding=\"post\")\n",
        "sentences_idx"
      ]
    },
    {
      "cell_type": "markdown",
      "metadata": {
        "id": "VmM3ykrpbNbl"
      },
      "source": [
        "## Mask for entity words in the input sentences\n",
        "Generate a mask where 1 represents entity words and 0 represents other words.\n",
        "\n",
        "Args:\n",
        "- x (numpy.ndarray): Input sentences converted to indices.\n",
        "- word_index (dict): Dictionary mapping word tokens to their indices.\n",
        "\n",
        "Returns:\n",
        "- ret (numpy.ndarray): Mask array where 1 represents entity words and 0 represents other words.\n"
      ]
    },
    {
      "cell_type": "code",
      "execution_count": 16,
      "metadata": {
        "id": "BPtXh25ZbLP1"
      },
      "outputs": [],
      "source": [
        "# Function to create a mask for entity words in the input sequence.\n",
        "def get_mask_entities(x, word_index):\n",
        "    ''' 1 for entity words, 0 otherwise '''\n",
        "\n",
        "    ret = np.zeros_like(x)\n",
        "    for i in range(x.shape[0]):\n",
        "        e1 = [0, 0]\n",
        "        e2 = [0, 0]\n",
        "        for j in range(x.shape[1]):\n",
        "            if x[i][j] == word_index[\"e1start\"]:\n",
        "                e1[0] = j\n",
        "            elif x[i][j] == word_index[\"e1end\"]:\n",
        "                e1[1] = j\n",
        "            elif x[i][j] == word_index[\"e2start\"]:\n",
        "                e2[0] = j\n",
        "            elif x[i][j] == word_index[\"e2end\"]:\n",
        "                e2[1] = j\n",
        "                break\n",
        "        for j in range(e1[0]+1, e1[1]):\n",
        "            ret[i][j] = 1\n",
        "        for j in range(e2[0]+1, e2[1]):\n",
        "            ret[i][j] = 1\n",
        "\n",
        "    return ret"
      ]
    },
    {
      "cell_type": "code",
      "execution_count": 17,
      "metadata": {
        "id": "Alv5c4lpbPAo"
      },
      "outputs": [],
      "source": [
        "# Get dictionary of word indexes.\n",
        "word_index = tokenizer.word_index\n",
        "\n",
        "# Get masked sentence, i.e. only entity words are 1, rest all the words are 0.\n",
        "mask_entities = get_mask_entities(sentences_idx, word_index)"
      ]
    },
    {
      "cell_type": "code",
      "execution_count": 18,
      "metadata": {
        "colab": {
          "base_uri": "https://localhost:8080/"
        },
        "id": "xMXsBOr8bQRU",
        "outputId": "f5d890ca-e41e-4804-b511-4ac65f09ffd0"
      },
      "outputs": [
        {
          "data": {
            "text/plain": [
              "array([[0, 0, 0, ..., 0, 0, 0],\n",
              "       [0, 0, 1, ..., 0, 0, 0],\n",
              "       [0, 0, 1, ..., 0, 0, 0],\n",
              "       ...,\n",
              "       [0, 0, 0, ..., 0, 0, 0],\n",
              "       [0, 0, 0, ..., 0, 0, 0],\n",
              "       [0, 0, 1, ..., 0, 0, 0]], dtype=int32)"
            ]
          },
          "execution_count": 18,
          "metadata": {},
          "output_type": "execute_result"
        }
      ],
      "source": [
        "# Print the masked sentences matrix\n",
        "mask_entities"
      ]
    },
    {
      "cell_type": "markdown",
      "metadata": {
        "id": "8EPdRkjKbR5s"
      },
      "source": [
        "## Function to Load GloVe Word Embeddings and Create Embedding Matrix\n",
        "* load_glove: This function loads GloVe word embeddings from a specified file and creates an embedding matrix.\n",
        "\n",
        "* Args:\n",
        "word_index: Dictionary containing word-index mappings.\n",
        "* Returns:\n",
        "embedding_matrix: Matrix containing word embeddings.\n",
        "* Process:\n",
        "   1. Load GloVe embeddings from the file specified by EMBEDDING_FILE.\n",
        "   2. Calculate the mean and standard deviation of the embeddings.\n",
        "   3. Initialize an embedding matrix with random values.\n",
        "   4. Fill the embedding matrix with GloVe embeddings for words in word_index.\n",
        "* Note: The function assumes that the GloVe embeddings file is in the correct format and that the embeddings have the same dimensionality (embed_size) as specified in the function."
      ]
    },
    {
      "cell_type": "code",
      "execution_count": 29,
      "metadata": {
        "id": "pfG8ghVlbT4b"
      },
      "outputs": [],
      "source": [
        "def load_glove(word_index):\n",
        "    \n",
        "    # Path to the GloVe embeddings file\n",
        "    EMBEDDING_FILE = '/content/drive/MyDrive/Text-Mining/glove.6B.100d.txt'\n",
        "    \n",
        "    # Function to get word coefficients from GloVe file\n",
        "    def get_coefs(word,*arr): return word, np.asarray(arr, dtype='float32')\n",
        "    \n",
        "    # Read GloVe embeddings into a dictionary\n",
        "    embeddings_index = dict(get_coefs(*o.split(\" \")) for o in open(EMBEDDING_FILE, encoding=\"utf8\"))\n",
        "\n",
        "    # Calculate mean and standard deviation of the embeddings\n",
        "    all_embs = np.stack(list(embeddings_index.values()))\n",
        "    emb_mean,emb_std = all_embs.mean(), all_embs.std()\n",
        "    embed_size = all_embs.shape[1]\n",
        "    \n",
        "    # Initialize embedding matrix with random values\n",
        "    num_words = len(word_index)\n",
        "    embedding_matrix = np.random.normal(emb_mean, emb_std, (num_words, embed_size))\n",
        "    \n",
        "    # Fill embedding matrix with GloVe embeddings for words in word_index\n",
        "    for word, i in word_index.items():\n",
        "        if i >= num_words: continue\n",
        "        embedding_vector = embeddings_index.get(word)\n",
        "        if embedding_vector is not None: embedding_matrix[i] = embedding_vector\n",
        "\n",
        "    return embedding_matrix\n"
      ]
    },
    {
      "cell_type": "code",
      "execution_count": 20,
      "metadata": {
        "colab": {
          "base_uri": "https://localhost:8080/"
        },
        "id": "CUIZCfngbV_J",
        "outputId": "8af3d375-8943-40a6-bac2-e41205f7d8bd"
      },
      "outputs": [
        {
          "name": "stdout",
          "output_type": "stream",
          "text": [
            "Embedding matrix shape: (19936, 100)\n"
          ]
        }
      ],
      "source": [
        "# Load Embedding for all the unique words in the vocab.\n",
        "embedding = load_glove(word_index)\n",
        "print(\"Embedding matrix shape:\", embedding.shape)"
      ]
    },
    {
      "cell_type": "markdown",
      "metadata": {
        "id": "Ef9xoFRObYoD"
      },
      "source": [
        "### Encoding Relations"
      ]
    },
    {
      "cell_type": "code",
      "execution_count": 21,
      "metadata": {
        "colab": {
          "base_uri": "https://localhost:8080/"
        },
        "id": "EuUmHpO_bXOC",
        "outputId": "fd29fdd2-ac30-404c-bac9-f9e50e927e55"
      },
      "outputs": [
        {
          "name": "stdout",
          "output_type": "stream",
          "text": [
            "Total Number of relations: 19\n",
            "Relations:\n",
            " [ 0  1  2  3  4  5  6  7  8  9 10 11 12 13 14 15 16 17 18]\n"
          ]
        }
      ],
      "source": [
        "# Encoding the relations to indexes.\n",
        "label_encoder = LabelEncoder()\n",
        "relations_idx = label_encoder.fit_transform(train_df['relation'])\n",
        "print(\"Total Number of relations:\", len(label_encoder.classes_))\n",
        "print(\"Relations:\\n\", label_encoder.classes_)"
      ]
    },
    {
      "cell_type": "markdown",
      "metadata": {
        "id": "yi7OjjTitbMI"
      },
      "source": [
        "## Model Definition : Bidirectional LSTM + CNN with Multi-head Attention"
      ]
    },
    {
      "cell_type": "code",
      "execution_count": null,
      "metadata": {
        "colab": {
          "base_uri": "https://localhost:8080/"
        },
        "id": "uitCQSHecQyX",
        "outputId": "6e9e7879-d7a9-497a-b5e6-ed9f4cfd899d"
      },
      "outputs": [],
      "source": [
        "# Import necessary modules\n",
        "from tensorflow.keras.layers import Layer, Input, Embedding, Dropout, Conv1D, Bidirectional, LSTM, Activation, GlobalMaxPooling1D, Dense, concatenate, MultiHeadAttention\n",
        "from tensorflow.keras.models import Model\n",
        "from tensorflow.keras.optimizers import Nadam\n",
        "from tensorflow.keras.utils import to_categorical\n",
        "from tensorflow.keras.callbacks import ReduceLROnPlateau, EarlyStopping\n",
        "\n",
        "\n",
        "# Define inputs\n",
        "words_input = Input(shape=(max_sent_len,), dtype='int32') # Input for word indices\n",
        "words_input_mask = Input(shape=(max_sent_len,), dtype='int32') # Input for mask entities\n",
        "\n",
        "# Embedding layer\n",
        "embedding_size = embedding.shape[1]\n",
        "words = Embedding(input_dim=embedding.shape[0], output_dim=embedding_size, weights=[embedding], trainable=True)(words_input)\n",
        "words = Dropout(rate=0.5)(words) # Dropout layer to prevent overfitting\n",
        "\n",
        "# Bidirectional LSTM layer\n",
        "output = Bidirectional(LSTM(units=200, return_sequences=True))(words)\n",
        "output = Dropout(rate=0.3)(output)\n",
        "\n",
        "# Parallel Convolutional layers\n",
        "output1 = Conv1D(filters=100, kernel_size=3, activation='relu')(output)\n",
        "output = Dropout(rate=0.3)(output)\n",
        "output2 = Conv1D(filters=100, kernel_size=4, activation='relu')(output)\n",
        "output = Dropout(rate=0.3)(output)\n",
        "output3 = Conv1D(filters=100, kernel_size=5, activation='relu')(output)\n",
        "output = Dropout(rate=0.3)(output)\n",
        "\n",
        "# Max-pooling and concatenate\n",
        "output1 = GlobalMaxPooling1D()(output1)\n",
        "output2 = GlobalMaxPooling1D()(output2)\n",
        "output3 = GlobalMaxPooling1D()(output3)\n",
        "merged = concatenate([output1, output2, output3])\n",
        "\n",
        "# Multi-Head Attention\n",
        "attention_output = MultiHeadAttention(num_heads=8, key_dim=64)(output, output)\n",
        "attention_output = GlobalMaxPooling1D()(attention_output)\n",
        "\n",
        "# Concatenate attention output with previous dense layers\n",
        "merged_with_attention = concatenate([merged])\n",
        "\n",
        "# Dense layers\n",
        "output = Dense(units=300, activation='relu')(merged_with_attention)\n",
        "output = Dropout(rate=0.5)(output)\n",
        "output = Dense(units=200, activation='relu')(merged_with_attention)\n",
        "output = Dropout(rate=0.5)(output)\n",
        "\n",
        "# Final prediction layer\n",
        "output = Dense(units=len(label_encoder.classes_), activation='softmax')(output)\n",
        "\n",
        "# Define and compile the model\n",
        "model = Model(inputs=[words_input, words_input_mask], outputs=output)\n",
        "model.compile(optimizer=Nadam(learning_rate=0.002), loss='categorical_crossentropy', metrics=['accuracy'])\n",
        "\n",
        "# Print a summary of the model architecture\n",
        "model.summary()\n",
        "\n",
        "# Convert integer labels to one-hot encoding\n",
        "relations_one_hot = to_categorical(relations_idx, num_classes=len(label_encoder.classes_))\n",
        "\n",
        "# Define callbacks for model training\n",
        "reduce_lr = ReduceLROnPlateau(monitor='val_loss', factor=0.2, patience=5, min_lr=0.0001)\n",
        "early_stopping = EarlyStopping(monitor='val_loss', patience=10, restore_best_weights=True)"
      ]
    },
    {
      "cell_type": "markdown",
      "metadata": {},
      "source": [
        "## Training the Model"
      ]
    },
    {
      "cell_type": "code",
      "execution_count": null,
      "metadata": {},
      "outputs": [],
      "source": [
        "# Train the model\n",
        "history = model.fit([sentences_idx, mask_entities], relations_one_hot, shuffle=True, batch_size=128, epochs=20, verbose=1, validation_split=0.2)"
      ]
    },
    {
      "cell_type": "markdown",
      "metadata": {
        "id": "IwyyoH1Cb8k3"
      },
      "source": [
        "## Evaluating on unseen test data\n",
        "\n",
        "---\n",
        "\n"
      ]
    },
    {
      "cell_type": "markdown",
      "metadata": {},
      "source": [
        "### Loading and Preprocessing Test Data\n",
        "\n",
        "Result:\n",
        "\n",
        "* test_x_idx: Tokenized and padded sequences of sentences.\n",
        "* test_mask_entities: Mask for entities in the test sentences.\n",
        "* test_y_idx: Transformed numerical labels for relations."
      ]
    },
    {
      "cell_type": "code",
      "execution_count": 33,
      "metadata": {
        "colab": {
          "base_uri": "https://localhost:8080/"
        },
        "id": "MfqhoBSUb99r",
        "outputId": "df6786ef-17b5-4ed9-a21b-090353a294e7"
      },
      "outputs": [
        {
          "name": "stdout",
          "output_type": "stream",
          "text": [
            "Number of sentences and relations, i.e. number of samples: 2717\n"
          ]
        }
      ],
      "source": [
        "# Load the dataset\n",
        "dataset = load_dataset(\"sem_eval_2010_task_8\")\n",
        "\n",
        "test_x, test_y = [], []\n",
        "\n",
        "# Iterate over the test split of the dataset\n",
        "for sample in dataset['test']:\n",
        "    sentence = sample['sentence']\n",
        "    label = sample['relation']\n",
        "\n",
        "    # Convert Text to Lowercase\n",
        "    sentence = sentence.lower()\n",
        "\n",
        "    # Replace <e1> and </e1> tags with tokens\n",
        "    sentence = sentence.replace(\"<e1>\", \" E1_START \").replace(\"</e1>\", \" E1_END \")\n",
        "    # Replace <e2> and </e2> tags with tokens\n",
        "    sentence = sentence.replace(\"<e2>\", \" E2_START \").replace(\"</e2>\", \" E2_END \")\n",
        "\n",
        "    # Remove Noise\n",
        "    sentence = re.sub(r'[^a-zA-Z0-9\\s]', '', sentence)\n",
        "\n",
        "    # Tokenize the sentence\n",
        "    tokens = word_tokenize(sentence)\n",
        "\n",
        "    # Store preprocessed sentence and label\n",
        "    test_x.append(tokens)\n",
        "    test_y.append(label)\n",
        "\n",
        "print(\"Number of sentences and relations, i.e. number of samples:\", len(test_x))\n",
        "\n",
        "# Convert sentences to indices\n",
        "test_x_idx = tokenizer.texts_to_sequences(test_x)\n",
        "test_x_idx = pad_sequences(test_x_idx, maxlen=max_sent_len)\n",
        "\n",
        "# Get mask for entities\n",
        "test_mask_entities = get_mask_entities(test_x_idx, word_index)\n",
        "\n",
        "# Transform labels\n",
        "test_y_idx = label_encoder.transform(test_y)\n"
      ]
    },
    {
      "cell_type": "markdown",
      "metadata": {},
      "source": [
        "### Predictions on Test Data\n",
        "\n",
        "Step 1: Model Prediction\n",
        "* Use the trained model to predict the relation labels for the test data\n",
        "* Pass the tokenized and padded sequences of sentences (test_x_idx) \n",
        "and the mask for entities (test_mask_entities) as inputs to the model's predict method"
      ]
    },
    {
      "cell_type": "code",
      "execution_count": 34,
      "metadata": {
        "colab": {
          "base_uri": "https://localhost:8080/"
        },
        "id": "bQppqSrvb_VX",
        "outputId": "94e6414f-62be-40e5-cc82-60a7a7c05276"
      },
      "outputs": [
        {
          "name": "stdout",
          "output_type": "stream",
          "text": [
            "85/85 [==============================] - 1s 8ms/step\n"
          ]
        }
      ],
      "source": [
        "pred = model.predict([test_x_idx, test_mask_entities])\n",
        "\n",
        "# Take the index of the maximum value along the last axis of the predicted probabilities \n",
        "# to get the predicted class labels\n",
        "pred = np.argmax(pred, axis=-1)"
      ]
    },
    {
      "cell_type": "code",
      "execution_count": 35,
      "metadata": {
        "colab": {
          "base_uri": "https://localhost:8080/"
        },
        "id": "BdvsKxMFj-qX",
        "outputId": "fd90a3b3-00f8-47d8-a221-b52c4adcc7d7"
      },
      "outputs": [
        {
          "data": {
            "text/plain": [
              "array([18, 17, 11, ...,  3, 16,  6])"
            ]
          },
          "execution_count": 35,
          "metadata": {},
          "output_type": "execute_result"
        }
      ],
      "source": [
        "# Display the predicted class labels\n",
        "pred"
      ]
    },
    {
      "cell_type": "markdown",
      "metadata": {},
      "source": [
        "### Evaluating Model Performance"
      ]
    },
    {
      "cell_type": "code",
      "execution_count": 41,
      "metadata": {
        "colab": {
          "base_uri": "https://localhost:8080/"
        },
        "id": "fmGAIYy0cA9X",
        "outputId": "e1d6dd61-d369-4c0c-9572-055b0357487b"
      },
      "outputs": [
        {
          "name": "stdout",
          "output_type": "stream",
          "text": [
            "f1_score: 0.757453073242547\n"
          ]
        }
      ],
      "source": [
        "# Importing necessary libraries\n",
        "from sklearn.metrics import f1_score, accuracy_score\n",
        "\n",
        "# Calculate the F1 score using the true labels (test_y_idx) and the predicted labels (pred)\n",
        "# Set the average parameter to \"micro\" to compute the metric globally across all classes\n",
        "print(\"f1_score:\",f1_score(test_y_idx, pred, average=\"micro\"))\n"
      ]
    },
    {
      "cell_type": "markdown",
      "metadata": {
        "id": "WdUEmQ2jc_VV"
      },
      "source": [
        "### Training and Validation Performance Visualization\n",
        "\n",
        "The plots help in understanding the model's performance during training and whether it's overfitting or underfitting."
      ]
    },
    {
      "cell_type": "code",
      "execution_count": 40,
      "metadata": {
        "colab": {
          "base_uri": "https://localhost:8080/",
          "height": 927
        },
        "id": "Py4Fbw_5cisK",
        "outputId": "5c0faf90-1ed8-4f6c-9e28-aa1557084002"
      },
      "outputs": [
        {
          "data": {
            "image/png": "[encoded data removed]",
            "text/plain": [
              "<Figure size 640x480 with 1 Axes>"
            ]
          },
          "metadata": {},
          "output_type": "display_data"
        },
        {
          "data": {
            "image/png": "[encoded data removed]",
            "text/plain": [
              "<Figure size 640x480 with 1 Axes>"
            ]
          },
          "metadata": {},
          "output_type": "display_data"
        }
      ],
      "source": [
        "# Plotting the training and validation accuracy values over epochs\n",
        "\n",
        "# Step 1: Plotting Accuracy\n",
        "# Plot the training accuracy values stored in 'accuracy' and validation accuracy values stored in 'val_accuracy' from history object\n",
        "plt.plot(history.history['accuracy'])\n",
        "plt.plot(history.history['val_accuracy'])\n",
        "plt.title('Model accuracy')\n",
        "plt.ylabel('Accuracy')\n",
        "plt.xlabel('Epoch')\n",
        "plt.legend(['Train', 'Test'], loc = 'upper left')\n",
        "plt.show()\n",
        "\n",
        "# Step 2: Plotting Loss\n",
        "# Plot the training loss values stored in 'loss' and validation loss values stored in 'val_loss' from history objectplt.plot(history.history['loss'])\n",
        "plt.plot(history.history['val_loss'])\n",
        "plt.title('Model loss')\n",
        "plt.ylabel('Loss')\n",
        "plt.xlabel('Epoch')\n",
        "plt.legend(['Train', 'Validation'], loc = 'upper left')\n",
        "plt.show()"
      ]
    },
    {
      "cell_type": "markdown",
      "metadata": {},
      "source": [
        "### Other Evaluation Metrics used for Model Evaluation\n",
        "\n",
        "The classification report includes precision, recall, and F1-score for each class, as well as support (the number of true instances for each class). The overall F1 score is calculated as the weighted average of F1 scores across all classes."
      ]
    },
    {
      "cell_type": "code",
      "execution_count": 49,
      "metadata": {
        "colab": {
          "base_uri": "https://localhost:8080/"
        },
        "id": "kEb8DRF0nPlM",
        "outputId": "c6475896-4f0d-4b99-ef85-f1dd3ab08212"
      },
      "outputs": [
        {
          "name": "stdout",
          "output_type": "stream",
          "text": [
            "Classification Report:\n",
            "               precision    recall  f1-score   support\n",
            "\n",
            "           0       0.86      0.93      0.89       134\n",
            "           1       0.85      0.89      0.87       194\n",
            "           2       0.78      0.80      0.79       162\n",
            "           3       0.70      0.75      0.72       150\n",
            "           4       0.77      0.88      0.82       153\n",
            "           5       0.76      0.72      0.74        39\n",
            "           6       0.85      0.90      0.87       291\n",
            "           7       0.00      0.00      0.00         1\n",
            "           8       0.79      0.86      0.82       211\n",
            "           9       0.89      0.83      0.86        47\n",
            "          10       0.55      0.50      0.52        22\n",
            "          11       0.65      0.67      0.66       134\n",
            "          12       0.56      0.69      0.62        32\n",
            "          13       0.80      0.95      0.87       201\n",
            "          14       0.84      0.88      0.86       210\n",
            "          15       0.80      0.76      0.78        51\n",
            "          16       0.75      0.73      0.74       108\n",
            "          17       0.68      0.72      0.70       123\n",
            "          18       0.55      0.38      0.45       454\n",
            "\n",
            "    accuracy                           0.76      2717\n",
            "   macro avg       0.71      0.73      0.71      2717\n",
            "weighted avg       0.74      0.76      0.75      2717\n",
            "\n",
            "Overall F1 Score: 0.7471881941302202\n"
          ]
        },
        {
          "name": "stderr",
          "output_type": "stream",
          "text": [
            "/usr/local/lib/python3.10/dist-packages/sklearn/metrics/_classification.py:1344: UndefinedMetricWarning: Precision and F-score are ill-defined and being set to 0.0 in labels with no predicted samples. Use `zero_division` parameter to control this behavior.\n",
            "  _warn_prf(average, modifier, msg_start, len(result))\n",
            "/usr/local/lib/python3.10/dist-packages/sklearn/metrics/_classification.py:1344: UndefinedMetricWarning: Precision and F-score are ill-defined and being set to 0.0 in labels with no predicted samples. Use `zero_division` parameter to control this behavior.\n",
            "  _warn_prf(average, modifier, msg_start, len(result))\n",
            "/usr/local/lib/python3.10/dist-packages/sklearn/metrics/_classification.py:1344: UndefinedMetricWarning: Precision and F-score are ill-defined and being set to 0.0 in labels with no predicted samples. Use `zero_division` parameter to control this behavior.\n",
            "  _warn_prf(average, modifier, msg_start, len(result))\n"
          ]
        }
      ],
      "source": [
        "from sklearn.metrics import classification_report, f1_score\n",
        "\n",
        "# Convert one-hot encoded predictions to class labels\n",
        "pred_labels = label_encoder.inverse_transform(pred)\n",
        "\n",
        "# Print classification report\n",
        "print(\"Classification Report:\\n\", classification_report(test_y, pred_labels))\n",
        "\n",
        "# Calculate and print overall F1 score\n",
        "overall_f1 = f1_score(test_y, pred_labels, average='weighted')\n",
        "print(\"Overall F1 Score:\", overall_f1)\n"
      ]
    },
    {
      "cell_type": "markdown",
      "metadata": {},
      "source": [
        "### Results Summary with Plotly Table\n",
        "* The table includes precision, recall, F1-score, and support for each class, as well as an overall accuracy score. "
      ]
    },
    {
      "cell_type": "code",
      "execution_count": 60,
      "metadata": {
        "colab": {
          "base_uri": "https://localhost:8080/",
          "height": 502
        },
        "id": "Qo3nMwTJiMd_",
        "outputId": "b7c89abc-82c1-46e9-c654-1574d08f8812"
      },
      "outputs": [
        {
          "data": {
            "text/html": [
              "<html>\n",
              "<head><meta charset=\"utf-8\" /></head>\n",
              "<body>\n",
              "    <div>            <script src=\"https://cdnjs.cloudflare.com/ajax/libs/mathjax/2.7.5/MathJax.js?config=TeX-AMS-MML_SVG\"></script><script type=\"text/javascript\">if (window.MathJax && window.MathJax.Hub && window.MathJax.Hub.Config) {window.MathJax.Hub.Config({SVG: {font: \"STIX-Web\"}});}</script>                <script type=\"text/javascript\">window.PlotlyConfig = {MathJaxConfig: 'local'};</script>\n",
              "        <script charset=\"utf-8\" src=\"https://cdn.plot.ly/plotly-2.24.1.min.js\"></script>                <div id=\"e7e15cec-88bc-4639-a4b3-ba7b61914595\" class=\"plotly-graph-div\" style=\"height:450px; width:800px;\"></div>            <script type=\"text/javascript\">                                    window.PLOTLYENV=window.PLOTLYENV || {};                                    if (document.getElementById(\"e7e15cec-88bc-4639-a4b3-ba7b61914595\")) {                    Plotly.newPlot(                        \"e7e15cec-88bc-4639-a4b3-ba7b61914595\",                        [{\"cells\":{\"align\":\"left\",\"fill\":{\"color\":\"lavender\"},\"values\":[[0,1,2,3,4,5,6,7,8,9,10,11,12,13,14,15,16,17,18,\"Overall\"],[0.8561643835616438,0.8480392156862745,0.7818181818181819,0.7044025157232704,0.7701149425287356,0.7567567567567568,0.8474025974025974,0.0,0.7903930131004366,0.8863636363636364,0.55,0.6474820143884892,0.5641025641025641,0.8016877637130801,0.8371040723981901,0.7959183673469388,0.7452830188679245,0.6846153846153846,0.5516129032258065,0.706276912189469],[0.9328358208955224,0.8917525773195877,0.7962962962962963,0.7466666666666667,0.8758169934640523,0.717948717948718,0.8969072164948454,0.0,0.8578199052132701,0.8297872340425532,0.5,0.6716417910447762,0.6875,0.945273631840796,0.8809523809523809,0.7647058823529411,0.7314814814814815,0.7235772357723578,0.3766519823788546,0.7277692533771106],[0.5472,0.5472,0.5472,0.5472,0.5472,0.5472,0.5472,0.5472,0.5472,0.5472,0.5472,0.5472,0.5472,0.5472,0.5472,0.5472,0.5472,0.5472,0.5472,0.7471881941302202],[134,194,162,150,153,39,291,1,211,47,22,134,32,201,210,51,108,123,454,2717]]},\"header\":{\"align\":\"left\",\"fill\":{\"color\":\"paleturquoise\"},\"values\":[\"Class\",\"Precision\",\"Recall\",\"F1 Score\",\"Support\"]},\"type\":\"table\"}],                        {\"template\":{\"data\":{\"histogram2dcontour\":[{\"type\":\"histogram2dcontour\",\"colorbar\":{\"outlinewidth\":0,\"ticks\":\"\"},\"colorscale\":[[0.0,\"#0d0887\"],[0.1111111111111111,\"#46039f\"],[0.2222222222222222,\"#7201a8\"],[0.3333333333333333,\"#9c179e\"],[0.4444444444444444,\"#bd3786\"],[0.5555555555555556,\"#d8576b\"],[0.6666666666666666,\"#ed7953\"],[0.7777777777777778,\"#fb9f3a\"],[0.8888888888888888,\"#fdca26\"],[1.0,\"#f0f921\"]]}],\"choropleth\":[{\"type\":\"choropleth\",\"colorbar\":{\"outlinewidth\":0,\"ticks\":\"\"}}],\"histogram2d\":[{\"type\":\"histogram2d\",\"colorbar\":{\"outlinewidth\":0,\"ticks\":\"\"},\"colorscale\":[[0.0,\"#0d0887\"],[0.1111111111111111,\"#46039f\"],[0.2222222222222222,\"#7201a8\"],[0.3333333333333333,\"#9c179e\"],[0.4444444444444444,\"#bd3786\"],[0.5555555555555556,\"#d8576b\"],[0.6666666666666666,\"#ed7953\"],[0.7777777777777778,\"#fb9f3a\"],[0.8888888888888888,\"#fdca26\"],[1.0,\"#f0f921\"]]}],\"heatmap\":[{\"type\":\"heatmap\",\"colorbar\":{\"outlinewidth\":0,\"ticks\":\"\"},\"colorscale\":[[0.0,\"#0d0887\"],[0.1111111111111111,\"#46039f\"],[0.2222222222222222,\"#7201a8\"],[0.3333333333333333,\"#9c179e\"],[0.4444444444444444,\"#bd3786\"],[0.5555555555555556,\"#d8576b\"],[0.6666666666666666,\"#ed7953\"],[0.7777777777777778,\"#fb9f3a\"],[0.8888888888888888,\"#fdca26\"],[1.0,\"#f0f921\"]]}],\"heatmapgl\":[{\"type\":\"heatmapgl\",\"colorbar\":{\"outlinewidth\":0,\"ticks\":\"\"},\"colorscale\":[[0.0,\"#0d0887\"],[0.1111111111111111,\"#46039f\"],[0.2222222222222222,\"#7201a8\"],[0.3333333333333333,\"#9c179e\"],[0.4444444444444444,\"#bd3786\"],[0.5555555555555556,\"#d8576b\"],[0.6666666666666666,\"#ed7953\"],[0.7777777777777778,\"#fb9f3a\"],[0.8888888888888888,\"#fdca26\"],[1.0,\"#f0f921\"]]}],\"contourcarpet\":[{\"type\":\"contourcarpet\",\"colorbar\":{\"outlinewidth\":0,\"ticks\":\"\"}}],\"contour\":[{\"type\":\"contour\",\"colorbar\":{\"outlinewidth\":0,\"ticks\":\"\"},\"colorscale\":[[0.0,\"#0d0887\"],[0.1111111111111111,\"#46039f\"],[0.2222222222222222,\"#7201a8\"],[0.3333333333333333,\"#9c179e\"],[0.4444444444444444,\"#bd3786\"],[0.5555555555555556,\"#d8576b\"],[0.6666666666666666,\"#ed7953\"],[0.7777777777777778,\"#fb9f3a\"],[0.8888888888888888,\"#fdca26\"],[1.0,\"#f0f921\"]]}],\"surface\":[{\"type\":\"surface\",\"colorbar\":{\"outlinewidth\":0,\"ticks\":\"\"},\"colorscale\":[[0.0,\"#0d0887\"],[0.1111111111111111,\"#46039f\"],[0.2222222222222222,\"#7201a8\"],[0.3333333333333333,\"#9c179e\"],[0.4444444444444444,\"#bd3786\"],[0.5555555555555556,\"#d8576b\"],[0.6666666666666666,\"#ed7953\"],[0.7777777777777778,\"#fb9f3a\"],[0.8888888888888888,\"#fdca26\"],[1.0,\"#f0f921\"]]}],\"mesh3d\":[{\"type\":\"mesh3d\",\"colorbar\":{\"outlinewidth\":0,\"ticks\":\"\"}}],\"scatter\":[{\"fillpattern\":{\"fillmode\":\"overlay\",\"size\":10,\"solidity\":0.2},\"type\":\"scatter\"}],\"parcoords\":[{\"type\":\"parcoords\",\"line\":{\"colorbar\":{\"outlinewidth\":0,\"ticks\":\"\"}}}],\"scatterpolargl\":[{\"type\":\"scatterpolargl\",\"marker\":{\"colorbar\":{\"outlinewidth\":0,\"ticks\":\"\"}}}],\"bar\":[{\"error_x\":{\"color\":\"#2a3f5f\"},\"error_y\":{\"color\":\"#2a3f5f\"},\"marker\":{\"line\":{\"color\":\"#E5ECF6\",\"width\":0.5},\"pattern\":{\"fillmode\":\"overlay\",\"size\":10,\"solidity\":0.2}},\"type\":\"bar\"}],\"scattergeo\":[{\"type\":\"scattergeo\",\"marker\":{\"colorbar\":{\"outlinewidth\":0,\"ticks\":\"\"}}}],\"scatterpolar\":[{\"type\":\"scatterpolar\",\"marker\":{\"colorbar\":{\"outlinewidth\":0,\"ticks\":\"\"}}}],\"histogram\":[{\"marker\":{\"pattern\":{\"fillmode\":\"overlay\",\"size\":10,\"solidity\":0.2}},\"type\":\"histogram\"}],\"scattergl\":[{\"type\":\"scattergl\",\"marker\":{\"colorbar\":{\"outlinewidth\":0,\"ticks\":\"\"}}}],\"scatter3d\":[{\"type\":\"scatter3d\",\"line\":{\"colorbar\":{\"outlinewidth\":0,\"ticks\":\"\"}},\"marker\":{\"colorbar\":{\"outlinewidth\":0,\"ticks\":\"\"}}}],\"scattermapbox\":[{\"type\":\"scattermapbox\",\"marker\":{\"colorbar\":{\"outlinewidth\":0,\"ticks\":\"\"}}}],\"scatterternary\":[{\"type\":\"scatterternary\",\"marker\":{\"colorbar\":{\"outlinewidth\":0,\"ticks\":\"\"}}}],\"scattercarpet\":[{\"type\":\"scattercarpet\",\"marker\":{\"colorbar\":{\"outlinewidth\":0,\"ticks\":\"\"}}}],\"carpet\":[{\"aaxis\":{\"endlinecolor\":\"#2a3f5f\",\"gridcolor\":\"white\",\"linecolor\":\"white\",\"minorgridcolor\":\"white\",\"startlinecolor\":\"#2a3f5f\"},\"baxis\":{\"endlinecolor\":\"#2a3f5f\",\"gridcolor\":\"white\",\"linecolor\":\"white\",\"minorgridcolor\":\"white\",\"startlinecolor\":\"#2a3f5f\"},\"type\":\"carpet\"}],\"table\":[{\"cells\":{\"fill\":{\"color\":\"#EBF0F8\"},\"line\":{\"color\":\"white\"}},\"header\":{\"fill\":{\"color\":\"#C8D4E3\"},\"line\":{\"color\":\"white\"}},\"type\":\"table\"}],\"barpolar\":[{\"marker\":{\"line\":{\"color\":\"#E5ECF6\",\"width\":0.5},\"pattern\":{\"fillmode\":\"overlay\",\"size\":10,\"solidity\":0.2}},\"type\":\"barpolar\"}],\"pie\":[{\"automargin\":true,\"type\":\"pie\"}]},\"layout\":{\"autotypenumbers\":\"strict\",\"colorway\":[\"#636efa\",\"#EF553B\",\"#00cc96\",\"#ab63fa\",\"#FFA15A\",\"#19d3f3\",\"#FF6692\",\"#B6E880\",\"#FF97FF\",\"#FECB52\"],\"font\":{\"color\":\"#2a3f5f\"},\"hovermode\":\"closest\",\"hoverlabel\":{\"align\":\"left\"},\"paper_bgcolor\":\"white\",\"plot_bgcolor\":\"#E5ECF6\",\"polar\":{\"bgcolor\":\"#E5ECF6\",\"angularaxis\":{\"gridcolor\":\"white\",\"linecolor\":\"white\",\"ticks\":\"\"},\"radialaxis\":{\"gridcolor\":\"white\",\"linecolor\":\"white\",\"ticks\":\"\"}},\"ternary\":{\"bgcolor\":\"#E5ECF6\",\"aaxis\":{\"gridcolor\":\"white\",\"linecolor\":\"white\",\"ticks\":\"\"},\"baxis\":{\"gridcolor\":\"white\",\"linecolor\":\"white\",\"ticks\":\"\"},\"caxis\":{\"gridcolor\":\"white\",\"linecolor\":\"white\",\"ticks\":\"\"}},\"coloraxis\":{\"colorbar\":{\"outlinewidth\":0,\"ticks\":\"\"}},\"colorscale\":{\"sequential\":[[0.0,\"#0d0887\"],[0.1111111111111111,\"#46039f\"],[0.2222222222222222,\"#7201a8\"],[0.3333333333333333,\"#9c179e\"],[0.4444444444444444,\"#bd3786\"],[0.5555555555555556,\"#d8576b\"],[0.6666666666666666,\"#ed7953\"],[0.7777777777777778,\"#fb9f3a\"],[0.8888888888888888,\"#fdca26\"],[1.0,\"#f0f921\"]],\"sequentialminus\":[[0.0,\"#0d0887\"],[0.1111111111111111,\"#46039f\"],[0.2222222222222222,\"#7201a8\"],[0.3333333333333333,\"#9c179e\"],[0.4444444444444444,\"#bd3786\"],[0.5555555555555556,\"#d8576b\"],[0.6666666666666666,\"#ed7953\"],[0.7777777777777778,\"#fb9f3a\"],[0.8888888888888888,\"#fdca26\"],[1.0,\"#f0f921\"]],\"diverging\":[[0,\"#8e0152\"],[0.1,\"#c51b7d\"],[0.2,\"#de77ae\"],[0.3,\"#f1b6da\"],[0.4,\"#fde0ef\"],[0.5,\"#f7f7f7\"],[0.6,\"#e6f5d0\"],[0.7,\"#b8e186\"],[0.8,\"#7fbc41\"],[0.9,\"#4d9221\"],[1,\"#276419\"]]},\"xaxis\":{\"gridcolor\":\"white\",\"linecolor\":\"white\",\"ticks\":\"\",\"title\":{\"standoff\":15},\"zerolinecolor\":\"white\",\"automargin\":true,\"zerolinewidth\":2},\"yaxis\":{\"gridcolor\":\"white\",\"linecolor\":\"white\",\"ticks\":\"\",\"title\":{\"standoff\":15},\"zerolinecolor\":\"white\",\"automargin\":true,\"zerolinewidth\":2},\"scene\":{\"xaxis\":{\"backgroundcolor\":\"#E5ECF6\",\"gridcolor\":\"white\",\"linecolor\":\"white\",\"showbackground\":true,\"ticks\":\"\",\"zerolinecolor\":\"white\",\"gridwidth\":2},\"yaxis\":{\"backgroundcolor\":\"#E5ECF6\",\"gridcolor\":\"white\",\"linecolor\":\"white\",\"showbackground\":true,\"ticks\":\"\",\"zerolinecolor\":\"white\",\"gridwidth\":2},\"zaxis\":{\"backgroundcolor\":\"#E5ECF6\",\"gridcolor\":\"white\",\"linecolor\":\"white\",\"showbackground\":true,\"ticks\":\"\",\"zerolinecolor\":\"white\",\"gridwidth\":2}},\"shapedefaults\":{\"line\":{\"color\":\"#2a3f5f\"}},\"annotationdefaults\":{\"arrowcolor\":\"#2a3f5f\",\"arrowhead\":0,\"arrowwidth\":1},\"geo\":{\"bgcolor\":\"white\",\"landcolor\":\"#E5ECF6\",\"subunitcolor\":\"white\",\"showland\":true,\"showlakes\":true,\"lakecolor\":\"white\"},\"title\":{\"x\":0.05},\"mapbox\":{\"style\":\"light\"}}},\"margin\":{\"l\":10,\"r\":10,\"b\":10,\"t\":10},\"width\":800,\"height\":450},                        {\"responsive\": true}                    ).then(function(){\n",
              "                            \n",
              "var gd = document.getElementById('e7e15cec-88bc-4639-a4b3-ba7b61914595');\n",
              "var x = new MutationObserver(function (mutations, observer) {{\n",
              "        var display = window.getComputedStyle(gd).display;\n",
              "        if (!display || display === 'none') {{\n",
              "            console.log([gd, 'removed!']);\n",
              "            Plotly.purge(gd);\n",
              "            observer.disconnect();\n",
              "        }}\n",
              "}});\n",
              "\n",
              "// Listen for the removal of the full notebook cells\n",
              "var notebookContainer = gd.closest('#notebook-container');\n",
              "if (notebookContainer) {{\n",
              "    x.observe(notebookContainer, {childList: true});\n",
              "}}\n",
              "\n",
              "// Listen for the clearing of the current output cell\n",
              "var outputEl = gd.closest('.output');\n",
              "if (outputEl) {{\n",
              "    x.observe(outputEl, {childList: true});\n",
              "}}\n",
              "\n",
              "                        })                };                            </script>        </div>\n",
              "</body>\n",
              "</html>"
            ]
          },
          "metadata": {},
          "output_type": "display_data"
        },
        {
          "name": "stdout",
          "output_type": "stream",
          "text": [
            "\n",
            "Overall Accuracy: 0.757453073242547\n"
          ]
        }
      ],
      "source": [
        "import plotly.graph_objects as go\n",
        "\n",
        "# Create a DataFrame to store the results\n",
        "results_df = pd.DataFrame({\n",
        "    'Class': label_encoder.classes_,\n",
        "    'Precision': precision,\n",
        "    'Recall': recall,\n",
        "    'F1 Score': f1,\n",
        "    'Support': support\n",
        "})\n",
        "\n",
        "# Add a row for overall accuracy\n",
        "overall_row = pd.DataFrame({\n",
        "    'Class': ['Overall'],\n",
        "    'Precision': [precision.mean()],\n",
        "    'Recall': [recall.mean()],\n",
        "    'F1 Score': [f1_score(test_y, pred_labels, average='weighted')],\n",
        "    'Support': [len(test_y)]\n",
        "})\n",
        "results_df = pd.concat([results_df, overall_row], ignore_index=True)\n",
        "\n",
        "# Create a Plotly figure for the table\n",
        "fig = go.Figure(data=[go.Table(\n",
        "    header=dict(values=list(results_df.columns),\n",
        "                fill_color='paleturquoise',\n",
        "                align='left'),\n",
        "    cells=dict(values=[results_df[col] for col in results_df.columns],\n",
        "               fill_color='lavender',\n",
        "               align='left'))\n",
        "])\n",
        "\n",
        "# Update layout for a more compact and appealing appearance\n",
        "fig.update_layout(width=800, height=450, margin=dict(l=10, r=10, b=10, t=10))\n",
        "\n",
        "# Display the table\n",
        "fig.show()\n",
        "\n",
        "# Print overall accuracy\n",
        "print(\"\\nOverall Accuracy:\", accuracy)\n"
      ]
    },
    {
      "cell_type": "code",
      "execution_count": null,
      "metadata": {
        "id": "fRIN-iNrjTxG"
      },
      "outputs": [],
      "source": []
    }
  ],
  "metadata": {
    "accelerator": "GPU",
    "colab": {
      "collapsed_sections": [
        "NnZvEErZbcat",
        "YeN_7BpQV3uN",
        "aRubqJdWDPmM"
      ],
      "gpuType": "T4",
      "provenance": []
    },
    "kernelspec": {
      "display_name": "Python 3",
      "name": "python3"
    },
    "language_info": {
      "codemirror_mode": {
        "name": "ipython",
        "version": 3
      },
      "file_extension": ".py",
      "mimetype": "text/x-python",
      "name": "python",
      "nbconvert_exporter": "python",
      "pygments_lexer": "ipython3",
      "version": "3.12.0"
    },
    "widgets": {
      "application/vnd.jupyter.widget-state+json": {
        "024ea33e780542dca61475a870ac4bbb": {
          "model_module": "@jupyter-widgets/controls",
          "model_module_version": "1.5.0",
          "model_name": "FloatProgressModel",
          "state": {
            "_dom_classes": [],
            "_model_module": "@jupyter-widgets/controls",
            "_model_module_version": "1.5.0",
            "_model_name": "FloatProgressModel",
            "_view_count": null,
            "_view_module": "@jupyter-widgets/controls",
            "_view_module_version": "1.5.0",
            "_view_name": "ProgressView",
            "bar_style": "success",
            "description": "",
            "description_tooltip": null,
            "layout": "IPY_MODEL_7dae1b81f8124deb90b436be66d1a0b2",
            "max": 230821,
            "min": 0,
            "orientation": "horizontal",
            "style": "IPY_MODEL_4a3d6b9bdd3e4427bcbaffff99de5c2f",
            "value": 230821
          }
        },
        "03514fbec67346a5bc1be9df8cdfd25e": {
          "model_module": "@jupyter-widgets/controls",
          "model_module_version": "1.5.0",
          "model_name": "HBoxModel",
          "state": {
            "_dom_classes": [],
            "_model_module": "@jupyter-widgets/controls",
            "_model_module_version": "1.5.0",
            "_model_name": "HBoxModel",
            "_view_count": null,
            "_view_module": "@jupyter-widgets/controls",
            "_view_module_version": "1.5.0",
            "_view_name": "HBoxView",
            "box_style": "",
            "children": [
              "IPY_MODEL_cb1b542d85494cc088160f57f66a9322",
              "IPY_MODEL_024ea33e780542dca61475a870ac4bbb",
              "IPY_MODEL_a0535bd67a6a4e5cad17cb7fb89ae9dd"
            ],
            "layout": "IPY_MODEL_f8a5265e627d4fd29cf82c575b7572b6"
          }
        },
        "17f4acafca16456e943c85188c34cc04": {
          "model_module": "@jupyter-widgets/base",
          "model_module_version": "1.2.0",
          "model_name": "LayoutModel",
          "state": {
            "_model_module": "@jupyter-widgets/base",
            "_model_module_version": "1.2.0",
            "_model_name": "LayoutModel",
            "_view_count": null,
            "_view_module": "@jupyter-widgets/base",
            "_view_module_version": "1.2.0",
            "_view_name": "LayoutView",
            "align_content": null,
            "align_items": null,
            "align_self": null,
            "border": null,
            "bottom": null,
            "display": null,
            "flex": null,
            "flex_flow": null,
            "grid_area": null,
            "grid_auto_columns": null,
            "grid_auto_flow": null,
            "grid_auto_rows": null,
            "grid_column": null,
            "grid_gap": null,
            "grid_row": null,
            "grid_template_areas": null,
            "grid_template_columns": null,
            "grid_template_rows": null,
            "height": null,
            "justify_content": null,
            "justify_items": null,
            "left": null,
            "margin": null,
            "max_height": null,
            "max_width": null,
            "min_height": null,
            "min_width": null,
            "object_fit": null,
            "object_position": null,
            "order": null,
            "overflow": null,
            "overflow_x": null,
            "overflow_y": null,
            "padding": null,
            "right": null,
            "top": null,
            "visibility": null,
            "width": null
          }
        },
        "1ebaff763f82458db9b50700c1b252a4": {
          "model_module": "@jupyter-widgets/controls",
          "model_module_version": "1.5.0",
          "model_name": "ProgressStyleModel",
          "state": {
            "_model_module": "@jupyter-widgets/controls",
            "_model_module_version": "1.5.0",
            "_model_name": "ProgressStyleModel",
            "_view_count": null,
            "_view_module": "@jupyter-widgets/base",
            "_view_module_version": "1.2.0",
            "_view_name": "StyleView",
            "bar_color": null,
            "description_width": ""
          }
        },
        "2115fe3ca53b4a5eac7417622c06e1e3": {
          "model_module": "@jupyter-widgets/controls",
          "model_module_version": "1.5.0",
          "model_name": "DescriptionStyleModel",
          "state": {
            "_model_module": "@jupyter-widgets/controls",
            "_model_module_version": "1.5.0",
            "_model_name": "DescriptionStyleModel",
            "_view_count": null,
            "_view_module": "@jupyter-widgets/base",
            "_view_module_version": "1.2.0",
            "_view_name": "StyleView",
            "description_width": ""
          }
        },
        "2614e93a21234db7b4cdb31a287bfb73": {
          "model_module": "@jupyter-widgets/controls",
          "model_module_version": "1.5.0",
          "model_name": "HTMLModel",
          "state": {
            "_dom_classes": [],
            "_model_module": "@jupyter-widgets/controls",
            "_model_module_version": "1.5.0",
            "_model_name": "HTMLModel",
            "_view_count": null,
            "_view_module": "@jupyter-widgets/controls",
            "_view_module_version": "1.5.0",
            "_view_name": "HTMLView",
            "description": "",
            "description_tooltip": null,
            "layout": "IPY_MODEL_a20b262c336341058b9b96fb16a43b00",
            "placeholder": "​",
            "style": "IPY_MODEL_450238db3636450c9ba740c61919e9e6",
            "value": "Generating train split: 100%"
          }
        },
        "29e76275fa35469a9f55d4b8354d8125": {
          "model_module": "@jupyter-widgets/controls",
          "model_module_version": "1.5.0",
          "model_name": "FloatProgressModel",
          "state": {
            "_dom_classes": [],
            "_model_module": "@jupyter-widgets/controls",
            "_model_module_version": "1.5.0",
            "_model_name": "FloatProgressModel",
            "_view_count": null,
            "_view_module": "@jupyter-widgets/controls",
            "_view_module_version": "1.5.0",
            "_view_name": "ProgressView",
            "bar_style": "success",
            "description": "",
            "description_tooltip": null,
            "layout": "IPY_MODEL_abd3c79c76984c5c853665ea32f20eaa",
            "max": 8000,
            "min": 0,
            "orientation": "horizontal",
            "style": "IPY_MODEL_8e32f979506a412badbe3b1af305f178",
            "value": 8000
          }
        },
        "2bbe6e94f0f14fc68bbbc069e2e0010d": {
          "model_module": "@jupyter-widgets/base",
          "model_module_version": "1.2.0",
          "model_name": "LayoutModel",
          "state": {
            "_model_module": "@jupyter-widgets/base",
            "_model_module_version": "1.2.0",
            "_model_name": "LayoutModel",
            "_view_count": null,
            "_view_module": "@jupyter-widgets/base",
            "_view_module_version": "1.2.0",
            "_view_name": "LayoutView",
            "align_content": null,
            "align_items": null,
            "align_self": null,
            "border": null,
            "bottom": null,
            "display": null,
            "flex": null,
            "flex_flow": null,
            "grid_area": null,
            "grid_auto_columns": null,
            "grid_auto_flow": null,
            "grid_auto_rows": null,
            "grid_column": null,
            "grid_gap": null,
            "grid_row": null,
            "grid_template_areas": null,
            "grid_template_columns": null,
            "grid_template_rows": null,
            "height": null,
            "justify_content": null,
            "justify_items": null,
            "left": null,
            "margin": null,
            "max_height": null,
            "max_width": null,
            "min_height": null,
            "min_width": null,
            "object_fit": null,
            "object_position": null,
            "order": null,
            "overflow": null,
            "overflow_x": null,
            "overflow_y": null,
            "padding": null,
            "right": null,
            "top": null,
            "visibility": null,
            "width": null
          }
        },
        "367eef39b0124515817729cab85cdda6": {
          "model_module": "@jupyter-widgets/controls",
          "model_module_version": "1.5.0",
          "model_name": "DescriptionStyleModel",
          "state": {
            "_model_module": "@jupyter-widgets/controls",
            "_model_module_version": "1.5.0",
            "_model_name": "DescriptionStyleModel",
            "_view_count": null,
            "_view_module": "@jupyter-widgets/base",
            "_view_module_version": "1.2.0",
            "_view_name": "StyleView",
            "description_width": ""
          }
        },
        "371d771d228d4bc9bfb93a794605a893": {
          "model_module": "@jupyter-widgets/base",
          "model_module_version": "1.2.0",
          "model_name": "LayoutModel",
          "state": {
            "_model_module": "@jupyter-widgets/base",
            "_model_module_version": "1.2.0",
            "_model_name": "LayoutModel",
            "_view_count": null,
            "_view_module": "@jupyter-widgets/base",
            "_view_module_version": "1.2.0",
            "_view_name": "LayoutView",
            "align_content": null,
            "align_items": null,
            "align_self": null,
            "border": null,
            "bottom": null,
            "display": null,
            "flex": null,
            "flex_flow": null,
            "grid_area": null,
            "grid_auto_columns": null,
            "grid_auto_flow": null,
            "grid_auto_rows": null,
            "grid_column": null,
            "grid_gap": null,
            "grid_row": null,
            "grid_template_areas": null,
            "grid_template_columns": null,
            "grid_template_rows": null,
            "height": null,
            "justify_content": null,
            "justify_items": null,
            "left": null,
            "margin": null,
            "max_height": null,
            "max_width": null,
            "min_height": null,
            "min_width": null,
            "object_fit": null,
            "object_position": null,
            "order": null,
            "overflow": null,
            "overflow_x": null,
            "overflow_y": null,
            "padding": null,
            "right": null,
            "top": null,
            "visibility": null,
            "width": null
          }
        },
        "43d68dc738514afb87f1dc14384c1767": {
          "model_module": "@jupyter-widgets/controls",
          "model_module_version": "1.5.0",
          "model_name": "HTMLModel",
          "state": {
            "_dom_classes": [],
            "_model_module": "@jupyter-widgets/controls",
            "_model_module_version": "1.5.0",
            "_model_name": "HTMLModel",
            "_view_count": null,
            "_view_module": "@jupyter-widgets/controls",
            "_view_module_version": "1.5.0",
            "_view_name": "HTMLView",
            "description": "",
            "description_tooltip": null,
            "layout": "IPY_MODEL_595cff3ffb284ba2aa91d79f70f93e41",
            "placeholder": "​",
            "style": "IPY_MODEL_367eef39b0124515817729cab85cdda6",
            "value": " 2717/2717 [00:00&lt;00:00, 30038.20 examples/s]"
          }
        },
        "450238db3636450c9ba740c61919e9e6": {
          "model_module": "@jupyter-widgets/controls",
          "model_module_version": "1.5.0",
          "model_name": "DescriptionStyleModel",
          "state": {
            "_model_module": "@jupyter-widgets/controls",
            "_model_module_version": "1.5.0",
            "_model_name": "DescriptionStyleModel",
            "_view_count": null,
            "_view_module": "@jupyter-widgets/base",
            "_view_module_version": "1.2.0",
            "_view_name": "StyleView",
            "description_width": ""
          }
        },
        "493167c6e5ca414c9fef8fb0dd6f80f6": {
          "model_module": "@jupyter-widgets/base",
          "model_module_version": "1.2.0",
          "model_name": "LayoutModel",
          "state": {
            "_model_module": "@jupyter-widgets/base",
            "_model_module_version": "1.2.0",
            "_model_name": "LayoutModel",
            "_view_count": null,
            "_view_module": "@jupyter-widgets/base",
            "_view_module_version": "1.2.0",
            "_view_name": "LayoutView",
            "align_content": null,
            "align_items": null,
            "align_self": null,
            "border": null,
            "bottom": null,
            "display": null,
            "flex": null,
            "flex_flow": null,
            "grid_area": null,
            "grid_auto_columns": null,
            "grid_auto_flow": null,
            "grid_auto_rows": null,
            "grid_column": null,
            "grid_gap": null,
            "grid_row": null,
            "grid_template_areas": null,
            "grid_template_columns": null,
            "grid_template_rows": null,
            "height": null,
            "justify_content": null,
            "justify_items": null,
            "left": null,
            "margin": null,
            "max_height": null,
            "max_width": null,
            "min_height": null,
            "min_width": null,
            "object_fit": null,
            "object_position": null,
            "order": null,
            "overflow": null,
            "overflow_x": null,
            "overflow_y": null,
            "padding": null,
            "right": null,
            "top": null,
            "visibility": null,
            "width": null
          }
        },
        "4a3d6b9bdd3e4427bcbaffff99de5c2f": {
          "model_module": "@jupyter-widgets/controls",
          "model_module_version": "1.5.0",
          "model_name": "ProgressStyleModel",
          "state": {
            "_model_module": "@jupyter-widgets/controls",
            "_model_module_version": "1.5.0",
            "_model_name": "ProgressStyleModel",
            "_view_count": null,
            "_view_module": "@jupyter-widgets/base",
            "_view_module_version": "1.2.0",
            "_view_name": "StyleView",
            "bar_color": null,
            "description_width": ""
          }
        },
        "595cff3ffb284ba2aa91d79f70f93e41": {
          "model_module": "@jupyter-widgets/base",
          "model_module_version": "1.2.0",
          "model_name": "LayoutModel",
          "state": {
            "_model_module": "@jupyter-widgets/base",
            "_model_module_version": "1.2.0",
            "_model_name": "LayoutModel",
            "_view_count": null,
            "_view_module": "@jupyter-widgets/base",
            "_view_module_version": "1.2.0",
            "_view_name": "LayoutView",
            "align_content": null,
            "align_items": null,
            "align_self": null,
            "border": null,
            "bottom": null,
            "display": null,
            "flex": null,
            "flex_flow": null,
            "grid_area": null,
            "grid_auto_columns": null,
            "grid_auto_flow": null,
            "grid_auto_rows": null,
            "grid_column": null,
            "grid_gap": null,
            "grid_row": null,
            "grid_template_areas": null,
            "grid_template_columns": null,
            "grid_template_rows": null,
            "height": null,
            "justify_content": null,
            "justify_items": null,
            "left": null,
            "margin": null,
            "max_height": null,
            "max_width": null,
            "min_height": null,
            "min_width": null,
            "object_fit": null,
            "object_position": null,
            "order": null,
            "overflow": null,
            "overflow_x": null,
            "overflow_y": null,
            "padding": null,
            "right": null,
            "top": null,
            "visibility": null,
            "width": null
          }
        },
        "5b1b765516994f5b860d1e913aedd691": {
          "model_module": "@jupyter-widgets/controls",
          "model_module_version": "1.5.0",
          "model_name": "HBoxModel",
          "state": {
            "_dom_classes": [],
            "_model_module": "@jupyter-widgets/controls",
            "_model_module_version": "1.5.0",
            "_model_name": "HBoxModel",
            "_view_count": null,
            "_view_module": "@jupyter-widgets/controls",
            "_view_module_version": "1.5.0",
            "_view_name": "HBoxView",
            "box_style": "",
            "children": [
              "IPY_MODEL_edebb217d50e4d2899e7ea88eb1f473b",
              "IPY_MODEL_c13cd4fa7ff44133910c3823592be718",
              "IPY_MODEL_43d68dc738514afb87f1dc14384c1767"
            ],
            "layout": "IPY_MODEL_ba1c746d0d45457b981455d3cc175c2c"
          }
        },
        "726de091ea474faab263801a5a861585": {
          "model_module": "@jupyter-widgets/controls",
          "model_module_version": "1.5.0",
          "model_name": "DescriptionStyleModel",
          "state": {
            "_model_module": "@jupyter-widgets/controls",
            "_model_module_version": "1.5.0",
            "_model_name": "DescriptionStyleModel",
            "_view_count": null,
            "_view_module": "@jupyter-widgets/base",
            "_view_module_version": "1.2.0",
            "_view_name": "StyleView",
            "description_width": ""
          }
        },
        "7dae1b81f8124deb90b436be66d1a0b2": {
          "model_module": "@jupyter-widgets/base",
          "model_module_version": "1.2.0",
          "model_name": "LayoutModel",
          "state": {
            "_model_module": "@jupyter-widgets/base",
            "_model_module_version": "1.2.0",
            "_model_name": "LayoutModel",
            "_view_count": null,
            "_view_module": "@jupyter-widgets/base",
            "_view_module_version": "1.2.0",
            "_view_name": "LayoutView",
            "align_content": null,
            "align_items": null,
            "align_self": null,
            "border": null,
            "bottom": null,
            "display": null,
            "flex": null,
            "flex_flow": null,
            "grid_area": null,
            "grid_auto_columns": null,
            "grid_auto_flow": null,
            "grid_auto_rows": null,
            "grid_column": null,
            "grid_gap": null,
            "grid_row": null,
            "grid_template_areas": null,
            "grid_template_columns": null,
            "grid_template_rows": null,
            "height": null,
            "justify_content": null,
            "justify_items": null,
            "left": null,
            "margin": null,
            "max_height": null,
            "max_width": null,
            "min_height": null,
            "min_width": null,
            "object_fit": null,
            "object_position": null,
            "order": null,
            "overflow": null,
            "overflow_x": null,
            "overflow_y": null,
            "padding": null,
            "right": null,
            "top": null,
            "visibility": null,
            "width": null
          }
        },
        "85e3bf75fe29486aa4218a00b0aac8b4": {
          "model_module": "@jupyter-widgets/controls",
          "model_module_version": "1.5.0",
          "model_name": "DescriptionStyleModel",
          "state": {
            "_model_module": "@jupyter-widgets/controls",
            "_model_module_version": "1.5.0",
            "_model_name": "DescriptionStyleModel",
            "_view_count": null,
            "_view_module": "@jupyter-widgets/base",
            "_view_module_version": "1.2.0",
            "_view_name": "StyleView",
            "description_width": ""
          }
        },
        "8e32f979506a412badbe3b1af305f178": {
          "model_module": "@jupyter-widgets/controls",
          "model_module_version": "1.5.0",
          "model_name": "ProgressStyleModel",
          "state": {
            "_model_module": "@jupyter-widgets/controls",
            "_model_module_version": "1.5.0",
            "_model_name": "ProgressStyleModel",
            "_view_count": null,
            "_view_module": "@jupyter-widgets/base",
            "_view_module_version": "1.2.0",
            "_view_name": "StyleView",
            "bar_color": null,
            "description_width": ""
          }
        },
        "965ea9293bfb4bbc97115909387eb6c6": {
          "model_module": "@jupyter-widgets/base",
          "model_module_version": "1.2.0",
          "model_name": "LayoutModel",
          "state": {
            "_model_module": "@jupyter-widgets/base",
            "_model_module_version": "1.2.0",
            "_model_name": "LayoutModel",
            "_view_count": null,
            "_view_module": "@jupyter-widgets/base",
            "_view_module_version": "1.2.0",
            "_view_name": "LayoutView",
            "align_content": null,
            "align_items": null,
            "align_self": null,
            "border": null,
            "bottom": null,
            "display": null,
            "flex": null,
            "flex_flow": null,
            "grid_area": null,
            "grid_auto_columns": null,
            "grid_auto_flow": null,
            "grid_auto_rows": null,
            "grid_column": null,
            "grid_gap": null,
            "grid_row": null,
            "grid_template_areas": null,
            "grid_template_columns": null,
            "grid_template_rows": null,
            "height": null,
            "justify_content": null,
            "justify_items": null,
            "left": null,
            "margin": null,
            "max_height": null,
            "max_width": null,
            "min_height": null,
            "min_width": null,
            "object_fit": null,
            "object_position": null,
            "order": null,
            "overflow": null,
            "overflow_x": null,
            "overflow_y": null,
            "padding": null,
            "right": null,
            "top": null,
            "visibility": null,
            "width": null
          }
        },
        "989759523d0b431d8e2103b1b17e3699": {
          "model_module": "@jupyter-widgets/controls",
          "model_module_version": "1.5.0",
          "model_name": "HTMLModel",
          "state": {
            "_dom_classes": [],
            "_model_module": "@jupyter-widgets/controls",
            "_model_module_version": "1.5.0",
            "_model_name": "HTMLModel",
            "_view_count": null,
            "_view_module": "@jupyter-widgets/controls",
            "_view_module_version": "1.5.0",
            "_view_name": "HTMLView",
            "description": "",
            "description_tooltip": null,
            "layout": "IPY_MODEL_af6ebb8ddd454fdea4d2090bf760ba8b",
            "placeholder": "​",
            "style": "IPY_MODEL_2115fe3ca53b4a5eac7417622c06e1e3",
            "value": " 673k/673k [00:00&lt;00:00, 1.59MB/s]"
          }
        },
        "9d3837eae9fd456290c50dffd1acdf73": {
          "model_module": "@jupyter-widgets/base",
          "model_module_version": "1.2.0",
          "model_name": "LayoutModel",
          "state": {
            "_model_module": "@jupyter-widgets/base",
            "_model_module_version": "1.2.0",
            "_model_name": "LayoutModel",
            "_view_count": null,
            "_view_module": "@jupyter-widgets/base",
            "_view_module_version": "1.2.0",
            "_view_name": "LayoutView",
            "align_content": null,
            "align_items": null,
            "align_self": null,
            "border": null,
            "bottom": null,
            "display": null,
            "flex": null,
            "flex_flow": null,
            "grid_area": null,
            "grid_auto_columns": null,
            "grid_auto_flow": null,
            "grid_auto_rows": null,
            "grid_column": null,
            "grid_gap": null,
            "grid_row": null,
            "grid_template_areas": null,
            "grid_template_columns": null,
            "grid_template_rows": null,
            "height": null,
            "justify_content": null,
            "justify_items": null,
            "left": null,
            "margin": null,
            "max_height": null,
            "max_width": null,
            "min_height": null,
            "min_width": null,
            "object_fit": null,
            "object_position": null,
            "order": null,
            "overflow": null,
            "overflow_x": null,
            "overflow_y": null,
            "padding": null,
            "right": null,
            "top": null,
            "visibility": null,
            "width": null
          }
        },
        "a0535bd67a6a4e5cad17cb7fb89ae9dd": {
          "model_module": "@jupyter-widgets/controls",
          "model_module_version": "1.5.0",
          "model_name": "HTMLModel",
          "state": {
            "_dom_classes": [],
            "_model_module": "@jupyter-widgets/controls",
            "_model_module_version": "1.5.0",
            "_model_name": "HTMLModel",
            "_view_count": null,
            "_view_module": "@jupyter-widgets/controls",
            "_view_module_version": "1.5.0",
            "_view_name": "HTMLView",
            "description": "",
            "description_tooltip": null,
            "layout": "IPY_MODEL_2bbe6e94f0f14fc68bbbc069e2e0010d",
            "placeholder": "​",
            "style": "IPY_MODEL_fd56c0862c5540fe98c8cd412666888e",
            "value": " 231k/231k [00:00&lt;00:00, 1.38MB/s]"
          }
        },
        "a15985f97c0f4e72a0bd8335305f0dd3": {
          "model_module": "@jupyter-widgets/controls",
          "model_module_version": "1.5.0",
          "model_name": "FloatProgressModel",
          "state": {
            "_dom_classes": [],
            "_model_module": "@jupyter-widgets/controls",
            "_model_module_version": "1.5.0",
            "_model_name": "FloatProgressModel",
            "_view_count": null,
            "_view_module": "@jupyter-widgets/controls",
            "_view_module_version": "1.5.0",
            "_view_name": "ProgressView",
            "bar_style": "success",
            "description": "",
            "description_tooltip": null,
            "layout": "IPY_MODEL_9d3837eae9fd456290c50dffd1acdf73",
            "max": 672958,
            "min": 0,
            "orientation": "horizontal",
            "style": "IPY_MODEL_1ebaff763f82458db9b50700c1b252a4",
            "value": 672958
          }
        },
        "a20b262c336341058b9b96fb16a43b00": {
          "model_module": "@jupyter-widgets/base",
          "model_module_version": "1.2.0",
          "model_name": "LayoutModel",
          "state": {
            "_model_module": "@jupyter-widgets/base",
            "_model_module_version": "1.2.0",
            "_model_name": "LayoutModel",
            "_view_count": null,
            "_view_module": "@jupyter-widgets/base",
            "_view_module_version": "1.2.0",
            "_view_name": "LayoutView",
            "align_content": null,
            "align_items": null,
            "align_self": null,
            "border": null,
            "bottom": null,
            "display": null,
            "flex": null,
            "flex_flow": null,
            "grid_area": null,
            "grid_auto_columns": null,
            "grid_auto_flow": null,
            "grid_auto_rows": null,
            "grid_column": null,
            "grid_gap": null,
            "grid_row": null,
            "grid_template_areas": null,
            "grid_template_columns": null,
            "grid_template_rows": null,
            "height": null,
            "justify_content": null,
            "justify_items": null,
            "left": null,
            "margin": null,
            "max_height": null,
            "max_width": null,
            "min_height": null,
            "min_width": null,
            "object_fit": null,
            "object_position": null,
            "order": null,
            "overflow": null,
            "overflow_x": null,
            "overflow_y": null,
            "padding": null,
            "right": null,
            "top": null,
            "visibility": null,
            "width": null
          }
        },
        "a2160f861e914f3fb06795822e7b3ba6": {
          "model_module": "@jupyter-widgets/base",
          "model_module_version": "1.2.0",
          "model_name": "LayoutModel",
          "state": {
            "_model_module": "@jupyter-widgets/base",
            "_model_module_version": "1.2.0",
            "_model_name": "LayoutModel",
            "_view_count": null,
            "_view_module": "@jupyter-widgets/base",
            "_view_module_version": "1.2.0",
            "_view_name": "LayoutView",
            "align_content": null,
            "align_items": null,
            "align_self": null,
            "border": null,
            "bottom": null,
            "display": null,
            "flex": null,
            "flex_flow": null,
            "grid_area": null,
            "grid_auto_columns": null,
            "grid_auto_flow": null,
            "grid_auto_rows": null,
            "grid_column": null,
            "grid_gap": null,
            "grid_row": null,
            "grid_template_areas": null,
            "grid_template_columns": null,
            "grid_template_rows": null,
            "height": null,
            "justify_content": null,
            "justify_items": null,
            "left": null,
            "margin": null,
            "max_height": null,
            "max_width": null,
            "min_height": null,
            "min_width": null,
            "object_fit": null,
            "object_position": null,
            "order": null,
            "overflow": null,
            "overflow_x": null,
            "overflow_y": null,
            "padding": null,
            "right": null,
            "top": null,
            "visibility": null,
            "width": null
          }
        },
        "a474b15eb85d4aaaa780aee4eb9a69b1": {
          "model_module": "@jupyter-widgets/controls",
          "model_module_version": "1.5.0",
          "model_name": "DescriptionStyleModel",
          "state": {
            "_model_module": "@jupyter-widgets/controls",
            "_model_module_version": "1.5.0",
            "_model_name": "DescriptionStyleModel",
            "_view_count": null,
            "_view_module": "@jupyter-widgets/base",
            "_view_module_version": "1.2.0",
            "_view_name": "StyleView",
            "description_width": ""
          }
        },
        "abd3c79c76984c5c853665ea32f20eaa": {
          "model_module": "@jupyter-widgets/base",
          "model_module_version": "1.2.0",
          "model_name": "LayoutModel",
          "state": {
            "_model_module": "@jupyter-widgets/base",
            "_model_module_version": "1.2.0",
            "_model_name": "LayoutModel",
            "_view_count": null,
            "_view_module": "@jupyter-widgets/base",
            "_view_module_version": "1.2.0",
            "_view_name": "LayoutView",
            "align_content": null,
            "align_items": null,
            "align_self": null,
            "border": null,
            "bottom": null,
            "display": null,
            "flex": null,
            "flex_flow": null,
            "grid_area": null,
            "grid_auto_columns": null,
            "grid_auto_flow": null,
            "grid_auto_rows": null,
            "grid_column": null,
            "grid_gap": null,
            "grid_row": null,
            "grid_template_areas": null,
            "grid_template_columns": null,
            "grid_template_rows": null,
            "height": null,
            "justify_content": null,
            "justify_items": null,
            "left": null,
            "margin": null,
            "max_height": null,
            "max_width": null,
            "min_height": null,
            "min_width": null,
            "object_fit": null,
            "object_position": null,
            "order": null,
            "overflow": null,
            "overflow_x": null,
            "overflow_y": null,
            "padding": null,
            "right": null,
            "top": null,
            "visibility": null,
            "width": null
          }
        },
        "af6ebb8ddd454fdea4d2090bf760ba8b": {
          "model_module": "@jupyter-widgets/base",
          "model_module_version": "1.2.0",
          "model_name": "LayoutModel",
          "state": {
            "_model_module": "@jupyter-widgets/base",
            "_model_module_version": "1.2.0",
            "_model_name": "LayoutModel",
            "_view_count": null,
            "_view_module": "@jupyter-widgets/base",
            "_view_module_version": "1.2.0",
            "_view_name": "LayoutView",
            "align_content": null,
            "align_items": null,
            "align_self": null,
            "border": null,
            "bottom": null,
            "display": null,
            "flex": null,
            "flex_flow": null,
            "grid_area": null,
            "grid_auto_columns": null,
            "grid_auto_flow": null,
            "grid_auto_rows": null,
            "grid_column": null,
            "grid_gap": null,
            "grid_row": null,
            "grid_template_areas": null,
            "grid_template_columns": null,
            "grid_template_rows": null,
            "height": null,
            "justify_content": null,
            "justify_items": null,
            "left": null,
            "margin": null,
            "max_height": null,
            "max_width": null,
            "min_height": null,
            "min_width": null,
            "object_fit": null,
            "object_position": null,
            "order": null,
            "overflow": null,
            "overflow_x": null,
            "overflow_y": null,
            "padding": null,
            "right": null,
            "top": null,
            "visibility": null,
            "width": null
          }
        },
        "b6c2b179043547b787c5ef304f78345c": {
          "model_module": "@jupyter-widgets/base",
          "model_module_version": "1.2.0",
          "model_name": "LayoutModel",
          "state": {
            "_model_module": "@jupyter-widgets/base",
            "_model_module_version": "1.2.0",
            "_model_name": "LayoutModel",
            "_view_count": null,
            "_view_module": "@jupyter-widgets/base",
            "_view_module_version": "1.2.0",
            "_view_name": "LayoutView",
            "align_content": null,
            "align_items": null,
            "align_self": null,
            "border": null,
            "bottom": null,
            "display": null,
            "flex": null,
            "flex_flow": null,
            "grid_area": null,
            "grid_auto_columns": null,
            "grid_auto_flow": null,
            "grid_auto_rows": null,
            "grid_column": null,
            "grid_gap": null,
            "grid_row": null,
            "grid_template_areas": null,
            "grid_template_columns": null,
            "grid_template_rows": null,
            "height": null,
            "justify_content": null,
            "justify_items": null,
            "left": null,
            "margin": null,
            "max_height": null,
            "max_width": null,
            "min_height": null,
            "min_width": null,
            "object_fit": null,
            "object_position": null,
            "order": null,
            "overflow": null,
            "overflow_x": null,
            "overflow_y": null,
            "padding": null,
            "right": null,
            "top": null,
            "visibility": null,
            "width": null
          }
        },
        "ba1c746d0d45457b981455d3cc175c2c": {
          "model_module": "@jupyter-widgets/base",
          "model_module_version": "1.2.0",
          "model_name": "LayoutModel",
          "state": {
            "_model_module": "@jupyter-widgets/base",
            "_model_module_version": "1.2.0",
            "_model_name": "LayoutModel",
            "_view_count": null,
            "_view_module": "@jupyter-widgets/base",
            "_view_module_version": "1.2.0",
            "_view_name": "LayoutView",
            "align_content": null,
            "align_items": null,
            "align_self": null,
            "border": null,
            "bottom": null,
            "display": null,
            "flex": null,
            "flex_flow": null,
            "grid_area": null,
            "grid_auto_columns": null,
            "grid_auto_flow": null,
            "grid_auto_rows": null,
            "grid_column": null,
            "grid_gap": null,
            "grid_row": null,
            "grid_template_areas": null,
            "grid_template_columns": null,
            "grid_template_rows": null,
            "height": null,
            "justify_content": null,
            "justify_items": null,
            "left": null,
            "margin": null,
            "max_height": null,
            "max_width": null,
            "min_height": null,
            "min_width": null,
            "object_fit": null,
            "object_position": null,
            "order": null,
            "overflow": null,
            "overflow_x": null,
            "overflow_y": null,
            "padding": null,
            "right": null,
            "top": null,
            "visibility": null,
            "width": null
          }
        },
        "c13cd4fa7ff44133910c3823592be718": {
          "model_module": "@jupyter-widgets/controls",
          "model_module_version": "1.5.0",
          "model_name": "FloatProgressModel",
          "state": {
            "_dom_classes": [],
            "_model_module": "@jupyter-widgets/controls",
            "_model_module_version": "1.5.0",
            "_model_name": "FloatProgressModel",
            "_view_count": null,
            "_view_module": "@jupyter-widgets/controls",
            "_view_module_version": "1.5.0",
            "_view_name": "ProgressView",
            "bar_style": "success",
            "description": "",
            "description_tooltip": null,
            "layout": "IPY_MODEL_b6c2b179043547b787c5ef304f78345c",
            "max": 2717,
            "min": 0,
            "orientation": "horizontal",
            "style": "IPY_MODEL_e5838561eacc455aa6ae6bde006ef707",
            "value": 2717
          }
        },
        "c1aa45216a4f4c8fa5592c96a255e271": {
          "model_module": "@jupyter-widgets/controls",
          "model_module_version": "1.5.0",
          "model_name": "HBoxModel",
          "state": {
            "_dom_classes": [],
            "_model_module": "@jupyter-widgets/controls",
            "_model_module_version": "1.5.0",
            "_model_name": "HBoxModel",
            "_view_count": null,
            "_view_module": "@jupyter-widgets/controls",
            "_view_module_version": "1.5.0",
            "_view_name": "HBoxView",
            "box_style": "",
            "children": [
              "IPY_MODEL_cb6f71d861f14e2ea6763c904029cc63",
              "IPY_MODEL_a15985f97c0f4e72a0bd8335305f0dd3",
              "IPY_MODEL_989759523d0b431d8e2103b1b17e3699"
            ],
            "layout": "IPY_MODEL_a2160f861e914f3fb06795822e7b3ba6"
          }
        },
        "cb1b542d85494cc088160f57f66a9322": {
          "model_module": "@jupyter-widgets/controls",
          "model_module_version": "1.5.0",
          "model_name": "HTMLModel",
          "state": {
            "_dom_classes": [],
            "_model_module": "@jupyter-widgets/controls",
            "_model_module_version": "1.5.0",
            "_model_name": "HTMLModel",
            "_view_count": null,
            "_view_module": "@jupyter-widgets/controls",
            "_view_module_version": "1.5.0",
            "_view_name": "HTMLView",
            "description": "",
            "description_tooltip": null,
            "layout": "IPY_MODEL_493167c6e5ca414c9fef8fb0dd6f80f6",
            "placeholder": "​",
            "style": "IPY_MODEL_85e3bf75fe29486aa4218a00b0aac8b4",
            "value": "Downloading data: 100%"
          }
        },
        "cb6f71d861f14e2ea6763c904029cc63": {
          "model_module": "@jupyter-widgets/controls",
          "model_module_version": "1.5.0",
          "model_name": "HTMLModel",
          "state": {
            "_dom_classes": [],
            "_model_module": "@jupyter-widgets/controls",
            "_model_module_version": "1.5.0",
            "_model_name": "HTMLModel",
            "_view_count": null,
            "_view_module": "@jupyter-widgets/controls",
            "_view_module_version": "1.5.0",
            "_view_name": "HTMLView",
            "description": "",
            "description_tooltip": null,
            "layout": "IPY_MODEL_371d771d228d4bc9bfb93a794605a893",
            "placeholder": "​",
            "style": "IPY_MODEL_a474b15eb85d4aaaa780aee4eb9a69b1",
            "value": "Downloading data: 100%"
          }
        },
        "d054c48b02d84f3e8c4e0919f12e3eab": {
          "model_module": "@jupyter-widgets/controls",
          "model_module_version": "1.5.0",
          "model_name": "HBoxModel",
          "state": {
            "_dom_classes": [],
            "_model_module": "@jupyter-widgets/controls",
            "_model_module_version": "1.5.0",
            "_model_name": "HBoxModel",
            "_view_count": null,
            "_view_module": "@jupyter-widgets/controls",
            "_view_module_version": "1.5.0",
            "_view_name": "HBoxView",
            "box_style": "",
            "children": [
              "IPY_MODEL_2614e93a21234db7b4cdb31a287bfb73",
              "IPY_MODEL_29e76275fa35469a9f55d4b8354d8125",
              "IPY_MODEL_faade3e1af5f4e159cb8841230bb3249"
            ],
            "layout": "IPY_MODEL_965ea9293bfb4bbc97115909387eb6c6"
          }
        },
        "e533732fd90d4571b9c3e7f15f27ed55": {
          "model_module": "@jupyter-widgets/controls",
          "model_module_version": "1.5.0",
          "model_name": "DescriptionStyleModel",
          "state": {
            "_model_module": "@jupyter-widgets/controls",
            "_model_module_version": "1.5.0",
            "_model_name": "DescriptionStyleModel",
            "_view_count": null,
            "_view_module": "@jupyter-widgets/base",
            "_view_module_version": "1.2.0",
            "_view_name": "StyleView",
            "description_width": ""
          }
        },
        "e5838561eacc455aa6ae6bde006ef707": {
          "model_module": "@jupyter-widgets/controls",
          "model_module_version": "1.5.0",
          "model_name": "ProgressStyleModel",
          "state": {
            "_model_module": "@jupyter-widgets/controls",
            "_model_module_version": "1.5.0",
            "_model_name": "ProgressStyleModel",
            "_view_count": null,
            "_view_module": "@jupyter-widgets/base",
            "_view_module_version": "1.2.0",
            "_view_name": "StyleView",
            "bar_color": null,
            "description_width": ""
          }
        },
        "edebb217d50e4d2899e7ea88eb1f473b": {
          "model_module": "@jupyter-widgets/controls",
          "model_module_version": "1.5.0",
          "model_name": "HTMLModel",
          "state": {
            "_dom_classes": [],
            "_model_module": "@jupyter-widgets/controls",
            "_model_module_version": "1.5.0",
            "_model_name": "HTMLModel",
            "_view_count": null,
            "_view_module": "@jupyter-widgets/controls",
            "_view_module_version": "1.5.0",
            "_view_name": "HTMLView",
            "description": "",
            "description_tooltip": null,
            "layout": "IPY_MODEL_17f4acafca16456e943c85188c34cc04",
            "placeholder": "​",
            "style": "IPY_MODEL_e533732fd90d4571b9c3e7f15f27ed55",
            "value": "Generating test split: 100%"
          }
        },
        "f04e784ca6974b09b0a7e2eceb54f057": {
          "model_module": "@jupyter-widgets/base",
          "model_module_version": "1.2.0",
          "model_name": "LayoutModel",
          "state": {
            "_model_module": "@jupyter-widgets/base",
            "_model_module_version": "1.2.0",
            "_model_name": "LayoutModel",
            "_view_count": null,
            "_view_module": "@jupyter-widgets/base",
            "_view_module_version": "1.2.0",
            "_view_name": "LayoutView",
            "align_content": null,
            "align_items": null,
            "align_self": null,
            "border": null,
            "bottom": null,
            "display": null,
            "flex": null,
            "flex_flow": null,
            "grid_area": null,
            "grid_auto_columns": null,
            "grid_auto_flow": null,
            "grid_auto_rows": null,
            "grid_column": null,
            "grid_gap": null,
            "grid_row": null,
            "grid_template_areas": null,
            "grid_template_columns": null,
            "grid_template_rows": null,
            "height": null,
            "justify_content": null,
            "justify_items": null,
            "left": null,
            "margin": null,
            "max_height": null,
            "max_width": null,
            "min_height": null,
            "min_width": null,
            "object_fit": null,
            "object_position": null,
            "order": null,
            "overflow": null,
            "overflow_x": null,
            "overflow_y": null,
            "padding": null,
            "right": null,
            "top": null,
            "visibility": null,
            "width": null
          }
        },
        "f8a5265e627d4fd29cf82c575b7572b6": {
          "model_module": "@jupyter-widgets/base",
          "model_module_version": "1.2.0",
          "model_name": "LayoutModel",
          "state": {
            "_model_module": "@jupyter-widgets/base",
            "_model_module_version": "1.2.0",
            "_model_name": "LayoutModel",
            "_view_count": null,
            "_view_module": "@jupyter-widgets/base",
            "_view_module_version": "1.2.0",
            "_view_name": "LayoutView",
            "align_content": null,
            "align_items": null,
            "align_self": null,
            "border": null,
            "bottom": null,
            "display": null,
            "flex": null,
            "flex_flow": null,
            "grid_area": null,
            "grid_auto_columns": null,
            "grid_auto_flow": null,
            "grid_auto_rows": null,
            "grid_column": null,
            "grid_gap": null,
            "grid_row": null,
            "grid_template_areas": null,
            "grid_template_columns": null,
            "grid_template_rows": null,
            "height": null,
            "justify_content": null,
            "justify_items": null,
            "left": null,
            "margin": null,
            "max_height": null,
            "max_width": null,
            "min_height": null,
            "min_width": null,
            "object_fit": null,
            "object_position": null,
            "order": null,
            "overflow": null,
            "overflow_x": null,
            "overflow_y": null,
            "padding": null,
            "right": null,
            "top": null,
            "visibility": null,
            "width": null
          }
        },
        "faade3e1af5f4e159cb8841230bb3249": {
          "model_module": "@jupyter-widgets/controls",
          "model_module_version": "1.5.0",
          "model_name": "HTMLModel",
          "state": {
            "_dom_classes": [],
            "_model_module": "@jupyter-widgets/controls",
            "_model_module_version": "1.5.0",
            "_model_name": "HTMLModel",
            "_view_count": null,
            "_view_module": "@jupyter-widgets/controls",
            "_view_module_version": "1.5.0",
            "_view_name": "HTMLView",
            "description": "",
            "description_tooltip": null,
            "layout": "IPY_MODEL_f04e784ca6974b09b0a7e2eceb54f057",
            "placeholder": "​",
            "style": "IPY_MODEL_726de091ea474faab263801a5a861585",
            "value": " 8000/8000 [00:00&lt;00:00, 72168.29 examples/s]"
          }
        },
        "fd56c0862c5540fe98c8cd412666888e": {
          "model_module": "@jupyter-widgets/controls",
          "model_module_version": "1.5.0",
          "model_name": "DescriptionStyleModel",
          "state": {
            "_model_module": "@jupyter-widgets/controls",
            "_model_module_version": "1.5.0",
            "_model_name": "DescriptionStyleModel",
            "_view_count": null,
            "_view_module": "@jupyter-widgets/base",
            "_view_module_version": "1.2.0",
            "_view_name": "StyleView",
            "description_width": ""
          }
        }
      }
    }
  },
  "nbformat": 4,
  "nbformat_minor": 0
}
